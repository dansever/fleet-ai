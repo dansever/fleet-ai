{
 "cells": [
  {
   "cell_type": "code",
   "execution_count": 1,
   "id": "59d475e2",
   "metadata": {},
   "outputs": [
    {
     "name": "stderr",
     "output_type": "stream",
     "text": [
      "c:\\Users\\danse\\Projects\\FleetAI V1\\fleet-ai\\apps\\backend\\app\\db\\models_auto.py:67: SAWarning: Implicitly combining column organizations.created_at with column org_settings.created_at under attribute 'created_at'.  Please configure one or more attributes for these same-named columns explicitly.\n",
      "  class OrgSettings(Organizations):\n",
      "c:\\Users\\danse\\Projects\\FleetAI V1\\fleet-ai\\apps\\backend\\app\\db\\models_auto.py:67: SAWarning: Implicitly combining column organizations.updated_at with column org_settings.updated_at under attribute 'updated_at'.  Please configure one or more attributes for these same-named columns explicitly.\n",
      "  class OrgSettings(Organizations):\n"
     ]
    }
   ],
   "source": [
    "import sys\n",
    "import os\n",
    "import asyncio\n",
    "\n",
    "# Add the backend directory to Python path\n",
    "current_dir = os.getcwd()\n",
    "backend_dir = os.path.join(current_dir, '..', '..')\n",
    "sys.path.insert(0, os.path.abspath(backend_dir))\n",
    "\n",
    "from app.db import get_db, get_airports_by_org, get_quotes_by_rfq_id, get_user_by_id\n",
    "from app.db.models_auto import Airports, Quotes, Users"
   ]
  },
  {
   "cell_type": "code",
   "execution_count": 2,
   "id": "cee4477a",
   "metadata": {},
   "outputs": [],
   "source": [
    "async def test_airports():\n",
    "    \"\"\"Test airport operations\"\"\"\n",
    "    print(\"=== Testing Airport Operations ===\")\n",
    "    \n",
    "    async for session in get_db():\n",
    "        # Get airports by organization\n",
    "        org_id = \"6c26bb58-b361-4feb-aa6b-1f01599200c5\"\n",
    "        airports = await get_airports_by_org(session, org_id)\n",
    "        \n",
    "        print(f\"Found {len(airports)} airports for org {org_id}\")\n",
    "        # for airport in airports:\n",
    "        #     print(f\"- {airport.name} ({airport.iata})\")\n",
    "        return airports[0]"
   ]
  },
  {
   "cell_type": "code",
   "execution_count": 3,
   "id": "1df7b943",
   "metadata": {},
   "outputs": [
    {
     "name": "stdout",
     "output_type": "stream",
     "text": [
      "=== Testing Airport Operations ===\n",
      "2025-08-28 10:57:22,111 INFO sqlalchemy.engine.Engine select pg_catalog.version()\n",
      "2025-08-28 10:57:22,112 INFO sqlalchemy.engine.Engine [raw sql] ()\n",
      "2025-08-28 10:57:22,121 INFO sqlalchemy.engine.Engine select current_schema()\n",
      "2025-08-28 10:57:22,122 INFO sqlalchemy.engine.Engine [raw sql] ()\n",
      "2025-08-28 10:57:22,130 INFO sqlalchemy.engine.Engine show standard_conforming_strings\n",
      "2025-08-28 10:57:22,132 INFO sqlalchemy.engine.Engine [raw sql] ()\n",
      "2025-08-28 10:57:22,138 INFO sqlalchemy.engine.Engine BEGIN (implicit)\n",
      "2025-08-28 10:57:22,235 INFO sqlalchemy.engine.Engine SELECT airports.id, airports.org_id, airports.name, airports.country, airports.created_at, airports.updated_at, airports.iata, airports.icao, airports.city, airports.state, airports.is_hub, airports.internal_notes \n",
      "FROM airports \n",
      "WHERE airports.org_id = $1::UUID\n",
      "2025-08-28 10:57:22,237 INFO sqlalchemy.engine.Engine [generated in 0.00231s] ('6c26bb58-b361-4feb-aa6b-1f01599200c5',)\n",
      "Found 7 airports for org 6c26bb58-b361-4feb-aa6b-1f01599200c5\n",
      "Regular:  <Airports id=d894a9cd044d4db4bec0267a1550d764, org_id=6c26bb58b3614febaa6b1f01599200c5, name='Rome–Fiumicino International Airport', country='Italy', created_at=2025-08-24T13:04:45Z, updated_at=2025-08-24T13:04:45Z, iata='FCO', icao='LIRF', city='Lazio', state='', is_hub=False>\n",
      "To Dict:  {'id': 'd894a9cd044d4db4bec0267a1550d764', 'org_id': '6c26bb58b3614febaa6b1f01599200c5', 'name': \"'Rome–Fiumicino International Airport'\", 'country': \"'Italy'\", 'created_at': '2025-08-24T13:04:45Z', 'updated_at': '2025-08-24T13:04:45Z', 'iata': \"'FCO'\", 'icao': \"'LIRF'\", 'city': \"'Lazio'\", 'state': \"''\", 'is_hub': 'False', 'internal_notes': 'None'}\n"
     ]
    },
    {
     "name": "stdout",
     "output_type": "stream",
     "text": [
      "2025-08-28 10:57:22,250 INFO sqlalchemy.engine.Engine ROLLBACK\n"
     ]
    }
   ],
   "source": [
    "# Run the test\n",
    "first_airport = await test_airports()\n",
    "print(\"Regular: \", first_airport)\n",
    "print(\"To Dict: \", first_airport.to_dict())"
   ]
  }
 ],
 "metadata": {
  "kernelspec": {
   "display_name": ".venv",
   "language": "python",
   "name": "python3"
  },
  "language_info": {
   "codemirror_mode": {
    "name": "ipython",
    "version": 3
   },
   "file_extension": ".py",
   "mimetype": "text/x-python",
   "name": "python",
   "nbconvert_exporter": "python",
   "pygments_lexer": "ipython3",
   "version": "3.13.7"
  }
 },
 "nbformat": 4,
 "nbformat_minor": 5
}
