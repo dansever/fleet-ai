{
 "cells": [
  {
   "cell_type": "code",
   "execution_count": null,
   "id": "9e50b425",
   "metadata": {},
   "outputs": [
    {
     "name": "stdout",
     "output_type": "stream",
     "text": [
      "The autoreload extension is already loaded. To reload it, use:\n",
      "  %reload_ext autoreload\n"
     ]
    },
    {
     "name": "stdout",
     "output_type": "stream",
     "text": [
      "The autoreload extension is already loaded. To reload it, use:\n",
      "  %reload_ext autoreload\n"
     ]
    }
   ],
   "source": [
    "# Auto-reload changes to the backend code\n",
    "%load_ext autoreload\n",
    "%autoreload 2\n",
    "\n",
    "import sys\n",
    "import os\n",
    "import asyncio\n",
    "\n",
    "# Add the backend directory to Python path\n",
    "current_dir = os.getcwd()\n",
    "backend_dir = os.path.join(current_dir, '..', '..')\n",
    "sys.path.insert(0, os.path.abspath(backend_dir))"
   ]
  },
  {
   "cell_type": "code",
   "execution_count": null,
   "id": "9da45b1c",
   "metadata": {},
   "outputs": [],
   "source": [
    "from langchain_community.document_loaders import PyPDFLoader\n",
    "\n",
    "file_path = r\"C:\\Users\\danse\\Projects\\FleetAI V1\\Training Data\\Contracts\\Ben Gurion\\fuel-contract.pdf\"\n",
    "\n",
    "loader = PyPDFLoader(file_path)\n",
    "pages = []\n",
    "async for page in loader.alazy_load():\n",
    "    pages.append(page)"
   ]
  }
 ],
 "metadata": {
  "kernelspec": {
   "display_name": ".venv",
   "language": "python",
   "name": "python3"
  },
  "language_info": {
   "codemirror_mode": {
    "name": "ipython",
    "version": 3
   },
   "file_extension": ".py",
   "mimetype": "text/x-python",
   "name": "python",
   "nbconvert_exporter": "python",
   "pygments_lexer": "ipython3",
   "version": "3.13.7"
  }
 },
 "nbformat": 4,
 "nbformat_minor": 5
}
