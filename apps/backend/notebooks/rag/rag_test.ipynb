{
 "cells": [
  {
   "cell_type": "code",
   "execution_count": 1,
   "id": "63a07f8a",
   "metadata": {},
   "outputs": [],
   "source": [
    "# Auto-reload changes to the backend code\n",
    "%load_ext autoreload\n",
    "%autoreload 2\n",
    "\n",
    "import sys\n",
    "import os\n",
    "import asyncio\n",
    "\n",
    "# Add the backend directory to Python path\n",
    "current_dir = os.getcwd()\n",
    "backend_dir = os.path.join(current_dir, '..', '..')\n",
    "sys.path.insert(0, os.path.abspath(backend_dir))"
   ]
  },
  {
   "cell_type": "code",
   "execution_count": 4,
   "id": "eaabd3be",
   "metadata": {},
   "outputs": [
    {
     "name": "stdout",
     "output_type": "stream",
     "text": [
      "Answer: Mediterranean Aviation Fuels Ltd. (the Vendor).\n",
      "\n",
      "Processed 5 chunks from the document\n"
     ]
    }
   ],
   "source": [
    "import asyncio\n",
    "from app.ai.rag.rag_pipeline import rag_pipeline, build_qa_chain\n",
    "\n",
    "async def main():\n",
    "    # Your PDF file path\n",
    "    file_path = r\"C:\\Users\\danse\\Projects\\FleetAI V1\\Training Data\\Contracts\\Ben Gurion\\fuel_contract_expanded.pdf\"\n",
    "    \n",
    "    # Build the RAG pipeline\n",
    "    retriever, chunks = await rag_pipeline(\n",
    "        file_path=file_path,\n",
    "        chunk_size=1000,\n",
    "        chunk_overlap=150,\n",
    "    )\n",
    "    \n",
    "    # Build QA chain\n",
    "    qa = build_qa_chain(retriever)\n",
    "    \n",
    "    # Ask your question\n",
    "    answer = await qa.ainvoke(\"Who is the seller?\")\n",
    "    print(f\"Answer: {answer.content}\")\n",
    "    \n",
    "    # Optional: print some info about the chunks\n",
    "    print(f\"\\nProcessed {len(chunks)} chunks from the document\")\n",
    "\n",
    "# Run the async function\n",
    "await main()"
   ]
  }
 ],
 "metadata": {
  "kernelspec": {
   "display_name": ".venv",
   "language": "python",
   "name": "python3"
  },
  "language_info": {
   "codemirror_mode": {
    "name": "ipython",
    "version": 3
   },
   "file_extension": ".py",
   "mimetype": "text/x-python",
   "name": "python",
   "nbconvert_exporter": "python",
   "pygments_lexer": "ipython3",
   "version": "3.13.7"
  }
 },
 "nbformat": 4,
 "nbformat_minor": 5
}
