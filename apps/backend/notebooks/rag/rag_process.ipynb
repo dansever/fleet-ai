{
 "cells": [
  {
   "cell_type": "code",
   "execution_count": 9,
   "id": "63a07f8a",
   "metadata": {},
   "outputs": [
    {
     "name": "stdout",
     "output_type": "stream",
     "text": [
      "backend_root: c:\\Users\\danse\\Projects\\FleetAI V1\\fleet-ai\\apps\\backend\n"
     ]
    }
   ],
   "source": [
    "import sys\n",
    "import os\n",
    "\n",
    "# Notebook dir = apps/backend/notebooks/rag\n",
    "notebook_dir = os.getcwd()\n",
    "\n",
    "# backend root = apps/backend\n",
    "backend_root = os.path.abspath(os.path.join(notebook_dir, \"..\", \"..\"))\n",
    "\n",
    "# Replace sys.path[0] with backend_root\n",
    "sys.path[0] = backend_root\n",
    "print(\"backend_root:\", backend_root)\n"
   ]
  },
  {
   "cell_type": "code",
   "execution_count": 44,
   "id": "eaabd3be",
   "metadata": {},
   "outputs": [],
   "source": [
    "%reload_ext autoreload\n",
    "%autoreload 2\n",
    "\n",
    "from pathlib import Path\n",
    "from app.ai.rag import load_file\n",
    "from app.ai.rag import chunk_documents\n",
    "from app.ai.rag import chunk_documents, ChunkingConfig\n",
    "\n",
    "# Use raw string or forward slashes on Windows\n",
    "base_path = Path(r\"C:\\Users\\danse\\Projects\\FleetAI V1\\fleet-ai\\apps\\backend\\mock_data\")\n",
    "file_path = base_path / \"logistic-frieght-forwarding.pdf\""
   ]
  },
  {
   "cell_type": "code",
   "execution_count": 45,
   "id": "e03fd0fa",
   "metadata": {},
   "outputs": [
    {
     "name": "stdout",
     "output_type": "stream",
     "text": [
      "load_file is async: False\n",
      "chunk_documents is async: False\n"
     ]
    }
   ],
   "source": [
    "import inspect\n",
    "print(\"load_file is async:\", inspect.iscoroutinefunction(load_file))\n",
    "print(\"chunk_documents is async:\", inspect.iscoroutinefunction(chunk_documents))\n"
   ]
  },
  {
   "cell_type": "markdown",
   "id": "c1995d00",
   "metadata": {},
   "source": [
    "### Load File"
   ]
  },
  {
   "cell_type": "code",
   "execution_count": null,
   "id": "a5ff81cf",
   "metadata": {},
   "outputs": [
    {
     "name": "stdout",
     "output_type": "stream",
     "text": [
      "Logistics and Freight Forwarding Agreement - Israel Air at Ben Gurion\n",
      "Airport\n",
      "Between: Israel Air (the 'Airline') and Atlas Freight Israel Ltd. (the 'Vendor')\n",
      "Service Type: Logistics Freight\n",
      "Effective Period: 01-Dec-2024 to 31-Oct-2025\n",
      "1. Scope\n",
      "Domestic and international freight forwarding, customs brokerage, and AOG logistics for Israel Air at TLV, including DG\n",
      "handling, bonded storage, and last-mile to hangar or vendor sites.\n",
      "2. AOG and Service Levels\n",
      "2.1 AOG Desk: 24×7 hotline; pickup within 120 minutes in Tel Aviv metro; export cutoff coordination with ops. 2.2 POD: Proof\n",
      "of delivery within 24 hours, including name, timestamp, and photo if available. 2.3 Tracking: Milestones EDI at acceptance,\n",
      "export, arrival, customs release, and delivery.\n",
      "3. Pricing and Surcharges\n",
      "3.1 Weight Breaks (Airport-to-door): 0–45 kg, 46–100 kg, 101–300 kg, 301–500 kg, >500 kg at tariff rates; AOG surcharge matrix\n",
      "attached. 3.2 Fuel Surcharge: Indexed monthly to IATA Fuel Price Monitor; published the first business day. 3.3\n",
      "After-Hours/Weekend: +18 percent; Security screening fee per piece per airport tariff.\n",
      "4. Customs, DG, and Compliance\n",
      "4.1 Customs: HS codes declared by shipper; Vendor provides brokerage with bond management. Temporary import ATA Carnet\n",
      "supported. 4.2 DG: Classes 2, 3, 8, 9 accepted per IATA DGR; staff certified and records retained 24 months. 4.3 Incoterms:\n",
      "Standard EXW, FCA, CPT, DAP; deviations must be in writing.\n",
      "5. Edge Cases\n",
      "5.1 Demurrage/Storage: First 24 hours free at Vendor facility; thereafter per kg/day tariff. Airport storage as per IAA rates. 5.2\n",
      "Over-Dimension/Over-Weight: Subject to feasibility and extra handling fees; crating recommended for fragile items. 5.3\n",
      "Lost/Damaged Freight: Liability as per Montreal/Warsaw Convention; declared value option available at premium.\n",
      "6. Term and Billing\n",
      "Weekly consolidated invoice with airwaybill-level detail. Net 30. Termination convenience 60 days; cause 15-day cure. Law: State\n",
      "of Israel.\n",
      "Signatures:\n",
      "For Israel Air: _______________________ Date: ____________\n",
      "For Atlas Freight Israel Ltd.: _______________________ Date: ____________\n"
     ]
    }
   ],
   "source": [
    "docs = load_file(file_path)\n",
    "doc = docs[0]\n",
    "first_line = doc.page_content.strip().split(\"\\n\")[0]\n",
    "raw_text = doc.page_content"
   ]
  },
  {
   "cell_type": "markdown",
   "id": "8af87054",
   "metadata": {},
   "source": [
    "### Chunk Document"
   ]
  },
  {
   "cell_type": "code",
   "execution_count": 59,
   "id": "ec6b0c34",
   "metadata": {},
   "outputs": [
    {
     "name": "stdout",
     "output_type": "stream",
     "text": [
      "Split 1 documents into 3 chunks\n"
     ]
    }
   ],
   "source": [
    "chunks = chunk_documents(\n",
    "    docs,\n",
    "    ChunkingConfig(chunk_size=1000, chunk_overlap=150, add_start_index=True),\n",
    ")"
   ]
  },
  {
   "cell_type": "markdown",
   "id": "1847f3d2",
   "metadata": {},
   "source": [
    "### Create Embedder & Vector Store"
   ]
  },
  {
   "cell_type": "code",
   "execution_count": 77,
   "id": "8c8aee78",
   "metadata": {},
   "outputs": [],
   "source": [
    "from app.ai.rag import build_embedder, EmbeddingConfig\n",
    "from langchain_core.vectorstores import InMemoryVectorStore\n",
    "from app.config import ai_config\n",
    "\n",
    "embedding_model = ai_config.active_embedding_model_id\n",
    "\n",
    "# =============== Create Embedder ===============\n",
    "embedder = build_embedder(EmbeddingConfig(provider=\"openai\", model=embedding_model))\n",
    "vector_store = InMemoryVectorStore(embedding=embedder)\n",
    "vector_store.add_documents(chunks)\n",
    "vectors = embedder.embed_documents([c.page_content for c in chunks])\n",
    "\n"
   ]
  },
  {
   "cell_type": "code",
   "execution_count": 74,
   "id": "43dfc575",
   "metadata": {},
   "outputs": [],
   "source": [
    "from app.db.operations import create_contract_document\n",
    "\n",
    "contract_id = \"ba2d1c9c-9ceb-4009-b8aa-78479fac11eb\"\n",
    "org_id = \"6c26bb58-b361-4feb-aa6b-1f01599200c5\"\n",
    "doc_data = {\n",
    "  \"title\": first_line, \n",
    "  \"source_type\": \"pdf\", \n",
    "  \"raw_text\": raw_text}\n",
    "\n",
    "contract_doc = await create_contract_document(contract_id, org_id, doc_data)\n"
   ]
  },
  {
   "cell_type": "code",
   "execution_count": 98,
   "id": "7babc7ef",
   "metadata": {},
   "outputs": [
    {
     "name": "stdout",
     "output_type": "stream",
     "text": [
      "VECTOR(1536)\n"
     ]
    }
   ],
   "source": [
    "from app.db.session import get_table\n",
    "table = await get_table(\"contract_chunks\")\n",
    "print(table.c.embedding.type)     # should show Vector(1536)\n"
   ]
  },
  {
   "cell_type": "code",
   "execution_count": 89,
   "id": "6d29f151",
   "metadata": {},
   "outputs": [],
   "source": [
    "from app.db.operations import create_contract_chunk\n",
    "\n",
    "async def store_chunks(contract_id, contract_doc, chunks, vectors):\n",
    "    for i, chunk in enumerate(chunks):\n",
    "        chunk_data = {\n",
    "            \"contract_id\": contract_id,\n",
    "            \"doc_id\": contract_doc.id,\n",
    "            \"order\": i,\n",
    "            \"label\": chunk.page_content.split(\"\\n\")[0],\n",
    "            \"content\": chunk.page_content,\n",
    "            \"embedding\": vectors[i],\n",
    "        }\n",
    "        await create_contract_chunk(\n",
    "            contract_id,\n",
    "            doc_id=contract_doc.id,\n",
    "            contract_chunk=chunk_data,\n",
    "        )\n",
    "\n",
    "await store_chunks(contract_id, contract_doc, chunks, vectors)"
   ]
  },
  {
   "cell_type": "markdown",
   "id": "ed93190d",
   "metadata": {},
   "source": [
    "### Fetch the vectors"
   ]
  },
  {
   "cell_type": "code",
   "execution_count": 97,
   "id": "299fc0cf",
   "metadata": {},
   "outputs": [
    {
     "ename": "ImportError",
     "evalue": "cannot import name 'get_contract_chunks_by_contract_id' from 'app.db.operations' (c:\\Users\\danse\\Projects\\FleetAI V1\\fleet-ai\\apps\\backend\\app\\db\\operations\\__init__.py)",
     "output_type": "error",
     "traceback": [
      "\u001b[31m---------------------------------------------------------------------------\u001b[39m",
      "\u001b[31mImportError\u001b[39m                               Traceback (most recent call last)",
      "\u001b[36mCell\u001b[39m\u001b[36m \u001b[39m\u001b[32mIn[97]\u001b[39m\u001b[32m, line 1\u001b[39m\n\u001b[32m----> \u001b[39m\u001b[32m1\u001b[39m \u001b[38;5;28;01mfrom\u001b[39;00m\u001b[38;5;250m \u001b[39m\u001b[34;01mapp\u001b[39;00m\u001b[34;01m.\u001b[39;00m\u001b[34;01mdb\u001b[39;00m\u001b[34;01m.\u001b[39;00m\u001b[34;01moperations\u001b[39;00m\u001b[38;5;250m \u001b[39m\u001b[38;5;28;01mimport\u001b[39;00m get_contract_chunks_by_contract_id\n\u001b[32m      2\u001b[39m contract_id = \u001b[33m\"\u001b[39m\u001b[33mba2d1c9c-9ceb-4009-b8aa-78479fac11eb\u001b[39m\u001b[33m\"\u001b[39m\n\u001b[32m      4\u001b[39m chunks = \u001b[38;5;28;01mawait\u001b[39;00m get_contract_chunks_by_contract_id(contract_id)\n",
      "\u001b[31mImportError\u001b[39m: cannot import name 'get_contract_chunks_by_contract_id' from 'app.db.operations' (c:\\Users\\danse\\Projects\\FleetAI V1\\fleet-ai\\apps\\backend\\app\\db\\operations\\__init__.py)"
     ]
    }
   ],
   "source": [
    "from app.db.operations import get_contract_chunks_by_contract_id\n",
    "contract_id = \"ba2d1c9c-9ceb-4009-b8aa-78479fac11eb\"\n",
    "\n",
    "chunks = await get_contract_chunks_by_contract_id(contract_id)"
   ]
  },
  {
   "cell_type": "markdown",
   "id": "c515a87e",
   "metadata": {},
   "source": [
    "### Initialize Retreiver"
   ]
  },
  {
   "cell_type": "code",
   "execution_count": null,
   "id": "c455e898",
   "metadata": {},
   "outputs": [],
   "source": [
    "retriever = vector_store.as_retriever(search_kwargs={\"k\": 4})\n"
   ]
  }
 ],
 "metadata": {
  "kernelspec": {
   "display_name": ".venv",
   "language": "python",
   "name": "python3"
  },
  "language_info": {
   "codemirror_mode": {
    "name": "ipython",
    "version": 3
   },
   "file_extension": ".py",
   "mimetype": "text/x-python",
   "name": "python",
   "nbconvert_exporter": "python",
   "pygments_lexer": "ipython3",
   "version": "3.13.7"
  }
 },
 "nbformat": 4,
 "nbformat_minor": 5
}
