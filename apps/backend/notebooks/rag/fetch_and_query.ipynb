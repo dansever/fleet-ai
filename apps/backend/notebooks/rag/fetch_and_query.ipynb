{
 "cells": [
  {
   "cell_type": "code",
   "execution_count": 1,
   "id": "a4956c81",
   "metadata": {},
   "outputs": [
    {
     "name": "stdout",
     "output_type": "stream",
     "text": [
      "backend_root: c:\\Users\\danse\\Projects\\FleetAI V1\\fleet-ai\\apps\\backend\n"
     ]
    }
   ],
   "source": [
    "import sys\n",
    "import os\n",
    "\n",
    "# Notebook dir = apps/backend/notebooks/rag\n",
    "notebook_dir = os.getcwd()\n",
    "\n",
    "# backend root = apps/backend\n",
    "backend_root = os.path.abspath(os.path.join(notebook_dir, \"..\", \"..\"))\n",
    "\n",
    "# Replace sys.path[0] with backend_root\n",
    "sys.path[0] = backend_root\n",
    "print(\"backend_root:\", backend_root)\n"
   ]
  },
  {
   "cell_type": "code",
   "execution_count": 4,
   "id": "38901108",
   "metadata": {},
   "outputs": [],
   "source": [
    "from app.db.operations import get_contract_chunks_by_contract_id\n",
    "contract_id = \"ba2d1c9c-9ceb-4009-b8aa-78479fac11eb\"\n",
    "\n",
    "chunks = await get_contract_chunks_by_contract_id(contract_id)"
   ]
  },
  {
   "cell_type": "code",
   "execution_count": 7,
   "id": "ddabc245",
   "metadata": {},
   "outputs": [
    {
     "data": {
      "text/plain": [
       "[array([-0.0566962 ,  0.02778844,  0.01520821, ...,  0.05202424,\n",
       "         0.00056765,  0.00664295], shape=(1536,), dtype=float32),\n",
       " array([-0.03745648,  0.01713405,  0.07458024, ...,  0.00827591,\n",
       "        -0.01527647,  0.0062104 ], shape=(1536,), dtype=float32),\n",
       " array([ 0.00039461,  0.03739611,  0.0123055 , ...,  0.0197361 ,\n",
       "         0.01168136, -0.01108349], shape=(1536,), dtype=float32)]"
      ]
     },
     "execution_count": 7,
     "metadata": {},
     "output_type": "execute_result"
    }
   ],
   "source": [
    "vectorStore = [row.embedding for row in chunks]\n",
    "vectorStore"
   ]
  }
 ],
 "metadata": {
  "kernelspec": {
   "display_name": ".venv",
   "language": "python",
   "name": "python3"
  },
  "language_info": {
   "codemirror_mode": {
    "name": "ipython",
    "version": 3
   },
   "file_extension": ".py",
   "mimetype": "text/x-python",
   "name": "python",
   "nbconvert_exporter": "python",
   "pygments_lexer": "ipython3",
   "version": "3.13.7"
  }
 },
 "nbformat": 4,
 "nbformat_minor": 5
}
