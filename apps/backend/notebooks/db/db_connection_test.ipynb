{
 "cells": [
  {
   "cell_type": "code",
   "execution_count": 1,
   "id": "6ca762e7",
   "metadata": {},
   "outputs": [],
   "source": [
    "# Auto-reload changes to the backend code\n",
    "%load_ext autoreload\n",
    "%autoreload 2\n",
    "\n",
    "import sys\n",
    "import os\n",
    "import asyncio\n",
    "\n",
    "# Add the backend directory to Python path\n",
    "current_dir = os.getcwd()\n",
    "backend_dir = os.path.join(current_dir, '..', '..')\n",
    "sys.path.insert(0, os.path.abspath(backend_dir))"
   ]
  },
  {
   "cell_type": "code",
   "execution_count": 2,
   "id": "36bd6408",
   "metadata": {},
   "outputs": [],
   "source": [
    "from sqlalchemy import select, insert\n",
    "from app.db.session import get_db, get_table\n",
    "\n",
    "async def list_airports():\n",
    "    airports = await get_table(\"airports\")\n",
    "    async for session in get_db():\n",
    "        res = await session.execute(select(airports))\n",
    "        return res.mappings().all()"
   ]
  },
  {
   "cell_type": "code",
   "execution_count": 3,
   "id": "687309b2",
   "metadata": {},
   "outputs": [
    {
     "name": "stdout",
     "output_type": "stream",
     "text": [
      "{\n",
      " id: 'd894a9cd-044d-4db4-bec0-267a1550d764',\n",
      " org_id: '6c26bb58-b361-4feb-aa6b-1f01599200c5',\n",
      " iata: 'FCO',\n",
      " icao: 'LIRF',\n",
      " name: 'Rome–Fiumicino International Airport',\n",
      " city: 'Lazio',\n",
      " state: '',\n",
      " country: 'Italy',\n",
      " is_hub: False,\n",
      " created_at: '2025-08-24 13:04:45+0000',\n",
      " updated_at: '2025-08-24 13:04:45+0000'\n",
      "}\n"
     ]
    },
    {
     "name": "stderr",
     "output_type": "stream",
     "text": [
      "<sys>:0: SAWarning: Did not recognize type 'vector' of column 'embedding'\n"
     ]
    }
   ],
   "source": [
    "import pandas as pd\n",
    "from app.utils import format_dict\n",
    "airports = await list_airports()\n",
    "print(format_dict(airports[0]))"
   ]
  },
  {
   "cell_type": "code",
   "execution_count": 4,
   "id": "e575e196",
   "metadata": {},
   "outputs": [
    {
     "data": {
      "text/plain": [
       "{'id': UUID('03f3f698-4b2e-4750-a40a-28c22749cd69'), 'org_id': UUID('6c26bb58-b361-4feb-aa6b-1f01599200c5'), 'iata': 'MIA', 'icao': 'KMIA', 'name': 'Miami International Airport', 'city': 'Miami', 'state': None, 'country': 'United States', 'is_hub': False, 'created_at': datetime.datetime(2025, 9, 7, 11, 59, 29, 526525, tzinfo=datetime.timezone.utc), 'updated_at': datetime.datetime(2025, 9, 7, 11, 59, 29, 526525, tzinfo=datetime.timezone.utc)}"
      ]
     },
     "execution_count": 4,
     "metadata": {},
     "output_type": "execute_result"
    }
   ],
   "source": [
    "from app.db.operations.airports import create_airport\n",
    "\n",
    "org_id = \"6c26bb58-b361-4feb-aa6b-1f01599200c5\"\n",
    "new_airport = {\n",
    "    \"name\": \"Miami International Airport\",\n",
    "    \"country\": \"United States\",\n",
    "    \"city\": \"Miami\",\n",
    "    \"iata\": \"MIA\",\n",
    "    \"icao\": \"KMIA\"\n",
    "}\n",
    "\n",
    "await create_airport(organization_id=org_id, airport=new_airport)"
   ]
  },
  {
   "cell_type": "code",
   "execution_count": 7,
   "id": "22cc9ea3",
   "metadata": {},
   "outputs": [
    {
     "name": "stdout",
     "output_type": "stream",
     "text": [
      "{\n",
      " id: '18f39ed3-00bc-4bf0-ac99-35f10a0cf888',\n",
      " org_id: '6c26bb58-b361-4feb-aa6b-1f01599200c5',\n",
      " iata: 'ETM',\n",
      " icao: 'LLER',\n",
      " name: 'Ramon International Airport',\n",
      " city: 'HaDarom',\n",
      " state: '',\n",
      " country: 'Israel',\n",
      " is_hub: False,\n",
      " created_at: '2025-08-26 07:42:00+0000',\n",
      " updated_at: '2025-08-26 07:42:00+0000'\n",
      "}\n"
     ]
    }
   ],
   "source": [
    "from app.db.operations.airports import get_airport\n",
    " \n",
    "ramon_airport_id = \"18f39ed3-00bc-4bf0-ac99-35f10a0cf888\"\n",
    "ramon_airport = await get_airport(airport_id=ramon_airport_id, organization_id=org_id)\n",
    "print(format_dict(ramon_airport))"
   ]
  }
 ],
 "metadata": {
  "kernelspec": {
   "display_name": ".venv",
   "language": "python",
   "name": "python3"
  },
  "language_info": {
   "codemirror_mode": {
    "name": "ipython",
    "version": 3
   },
   "file_extension": ".py",
   "mimetype": "text/x-python",
   "name": "python",
   "nbconvert_exporter": "python",
   "pygments_lexer": "ipython3",
   "version": "3.13.7"
  }
 },
 "nbformat": 4,
 "nbformat_minor": 5
}
