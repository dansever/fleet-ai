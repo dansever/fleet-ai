{
 "cells": [
  {
   "cell_type": "code",
   "execution_count": 3,
   "id": "6ca762e7",
   "metadata": {},
   "outputs": [],
   "source": [
    "# Auto-reload changes to the backend code\n",
    "%load_ext autoreload\n",
    "%autoreload 2\n",
    "\n",
    "import sys\n",
    "import os\n",
    "import asyncio\n",
    "\n",
    "# Add the backend directory to Python path\n",
    "current_dir = os.getcwd()\n",
    "backend_dir = os.path.join(current_dir, '..', '..')\n",
    "sys.path.insert(0, os.path.abspath(backend_dir))"
   ]
  },
  {
   "cell_type": "code",
   "execution_count": 48,
   "id": "36bd6408",
   "metadata": {},
   "outputs": [],
   "source": [
    "from sqlalchemy import select, insert\n",
    "from app.db.session import get_db, get_table\n",
    "\n",
    "async def list_airports():\n",
    "    airports = await get_table(\"airports\")\n",
    "    async for session in get_db():\n",
    "        res = await session.execute(select(airports))\n",
    "        return res.mappings().all()"
   ]
  },
  {
   "cell_type": "code",
   "execution_count": 53,
   "id": "687309b2",
   "metadata": {},
   "outputs": [
    {
     "name": "stdout",
     "output_type": "stream",
     "text": [
      "{\n",
      " id: 'd894a9cd-044d-4db4-bec0-267a1550d764',\n",
      " org_id: '6c26bb58-b361-4feb-aa6b-1f01599200c5',\n",
      " iata: 'FCO',\n",
      " icao: 'LIRF',\n",
      " name: 'Rome–Fiumicino International Airport',\n",
      " city: 'Lazio',\n",
      " state: '',\n",
      " country: 'Italy',\n",
      " is_hub: False,\n",
      " created_at: '2025-08-24 13:04:45+0000',\n",
      " updated_at: '2025-08-24 13:04:45+0000'\n",
      "}\n"
     ]
    }
   ],
   "source": [
    "import pandas as pd\n",
    "from app.utils import format_dict\n",
    "airports = await list_airports()\n",
    "print(format_dict(airports[0]))"
   ]
  },
  {
   "cell_type": "code",
   "execution_count": 58,
   "id": "e575e196",
   "metadata": {},
   "outputs": [],
   "source": [
    "from app.db.operations.airports import list_airports\n",
    "\n",
    "org_id = \"6c26bb58-b361-4feb-aa6b-1f01599200c5\"\n",
    "org_airports = await list_airports(organization_id=org_id)"
   ]
  },
  {
   "cell_type": "code",
   "execution_count": 59,
   "id": "3a5b13af",
   "metadata": {},
   "outputs": [
    {
     "data": {
      "text/plain": [
       "[{'id': UUID('d894a9cd-044d-4db4-bec0-267a1550d764'), 'org_id': UUID('6c26bb58-b361-4feb-aa6b-1f01599200c5'), 'iata': 'FCO', 'icao': 'LIRF', 'name': 'Rome–Fiumicino International Airport', 'city': 'Lazio', 'state': '', 'country': 'Italy', 'is_hub': False, 'created_at': datetime.datetime(2025, 8, 24, 13, 4, 45, 962063, tzinfo=datetime.timezone.utc), 'updated_at': datetime.datetime(2025, 8, 24, 13, 4, 45, 962063, tzinfo=datetime.timezone.utc)},\n",
       " {'id': UUID('aca05277-71e3-453b-a001-e42045988cf7'), 'org_id': UUID('6c26bb58-b361-4feb-aa6b-1f01599200c5'), 'iata': 'ATH', 'icao': 'LGAV', 'name': 'Athens International Airport (Eleftherios Venizelos Airport)', 'city': 'Attiki', 'state': '', 'country': 'Greece', 'is_hub': False, 'created_at': datetime.datetime(2025, 8, 24, 15, 9, 32, 391908, tzinfo=datetime.timezone.utc), 'updated_at': datetime.datetime(2025, 8, 24, 15, 9, 32, 391908, tzinfo=datetime.timezone.utc)},\n",
       " {'id': UUID('83aea565-a6e4-4ee7-a39a-d0c198da81dd'), 'org_id': UUID('6c26bb58-b361-4feb-aa6b-1f01599200c5'), 'iata': 'CDG', 'icao': 'LFPG', 'name': 'Paris Charles de Gaulle Airport', 'city': 'Ile-de-France', 'state': '', 'country': 'France', 'is_hub': False, 'created_at': datetime.datetime(2025, 8, 24, 15, 9, 46, 870754, tzinfo=datetime.timezone.utc), 'updated_at': datetime.datetime(2025, 8, 24, 15, 9, 46, 870754, tzinfo=datetime.timezone.utc)},\n",
       " {'id': UUID('443e546f-aabe-4845-b2f7-9ac347e8ae58'), 'org_id': UUID('6c26bb58-b361-4feb-aa6b-1f01599200c5'), 'iata': 'EWR', 'icao': 'KEWR', 'name': 'Newark Liberty International Airport', 'city': 'New Jersey', 'state': '', 'country': 'United States', 'is_hub': False, 'created_at': datetime.datetime(2025, 8, 25, 13, 40, 29, 54648, tzinfo=datetime.timezone.utc), 'updated_at': datetime.datetime(2025, 8, 25, 13, 40, 29, 54648, tzinfo=datetime.timezone.utc)},\n",
       " {'id': UUID('4d2a2551-e911-4b13-800c-156288b64cf9'), 'org_id': UUID('6c26bb58-b361-4feb-aa6b-1f01599200c5'), 'iata': 'VRN', 'icao': 'LIPX', 'name': 'Verona Villafranca Airport', 'city': 'Veneto', 'state': '', 'country': 'Italy', 'is_hub': False, 'created_at': datetime.datetime(2025, 8, 26, 7, 38, 51, 408781, tzinfo=datetime.timezone.utc), 'updated_at': datetime.datetime(2025, 8, 26, 7, 38, 51, 408781, tzinfo=datetime.timezone.utc)},\n",
       " {'id': UUID('18f39ed3-00bc-4bf0-ac99-35f10a0cf888'), 'org_id': UUID('6c26bb58-b361-4feb-aa6b-1f01599200c5'), 'iata': 'ETM', 'icao': 'LLER', 'name': 'Ramon Airport', 'city': 'HaDarom', 'state': '', 'country': 'Israel', 'is_hub': False, 'created_at': datetime.datetime(2025, 8, 26, 7, 42, 0, 734780, tzinfo=datetime.timezone.utc), 'updated_at': datetime.datetime(2025, 8, 26, 7, 42, 0, 734780, tzinfo=datetime.timezone.utc)},\n",
       " {'id': UUID('2dc96d6c-d740-498e-84e2-3f448a93e06f'), 'org_id': UUID('6c26bb58-b361-4feb-aa6b-1f01599200c5'), 'iata': 'PEK', 'icao': 'ZBAA', 'name': 'Beijing Capital International Airport', 'city': 'Beijing', 'state': '', 'country': 'China', 'is_hub': False, 'created_at': datetime.datetime(2025, 9, 3, 21, 10, 50, 234000, tzinfo=datetime.timezone.utc), 'updated_at': datetime.datetime(2025, 9, 3, 21, 10, 50, 234000, tzinfo=datetime.timezone.utc)},\n",
       " {'id': UUID('4453c3df-7008-4845-9fa3-98edc98f6994'), 'org_id': UUID('6c26bb58-b361-4feb-aa6b-1f01599200c5'), 'iata': 'MEL', 'icao': 'YMML', 'name': 'Melbourne Airport', 'city': 'Victoria', 'state': '', 'country': 'Australia', 'is_hub': False, 'created_at': datetime.datetime(2025, 9, 3, 21, 11, 4, 333000, tzinfo=datetime.timezone.utc), 'updated_at': datetime.datetime(2025, 9, 3, 21, 11, 4, 333000, tzinfo=datetime.timezone.utc)},\n",
       " {'id': UUID('36585cfa-566c-4668-b1fc-0fdd4c7c317d'), 'org_id': UUID('6c26bb58-b361-4feb-aa6b-1f01599200c5'), 'iata': 'TLV', 'icao': 'LLBG', 'name': 'Ben Gurion Airport', 'city': 'Tel-Aviv', 'state': '', 'country': 'Israel', 'is_hub': True, 'created_at': datetime.datetime(2025, 8, 24, 12, 44, 45, 600148, tzinfo=datetime.timezone.utc), 'updated_at': datetime.datetime(2025, 9, 5, 9, 44, 52, 64000, tzinfo=datetime.timezone.utc)},\n",
       " {'id': UUID('f9e80d3b-16cd-48ef-b9ce-18510dad5574'), 'org_id': UUID('6c26bb58-b361-4feb-aa6b-1f01599200c5'), 'iata': 'SYD', 'icao': 'YSSY', 'name': 'Sydney Airport (Kingsford Smith Airport)', 'city': 'New South Wales', 'state': '', 'country': 'Australia', 'is_hub': False, 'created_at': datetime.datetime(2025, 8, 28, 20, 18, 57, 560645, tzinfo=datetime.timezone.utc), 'updated_at': datetime.datetime(2025, 9, 5, 9, 45, 9, 122000, tzinfo=datetime.timezone.utc)},\n",
       " {'id': UUID('1a61f3bc-5464-4a7c-9742-84427c1244de'), 'org_id': UUID('6c26bb58-b361-4feb-aa6b-1f01599200c5'), 'iata': 'LHR', 'icao': 'EGLL', 'name': 'Heathrow Airport', 'city': 'England', 'state': '', 'country': 'United Kingdom', 'is_hub': False, 'created_at': datetime.datetime(2025, 9, 5, 12, 2, 49, 731000, tzinfo=datetime.timezone.utc), 'updated_at': datetime.datetime(2025, 9, 5, 12, 2, 49, 731000, tzinfo=datetime.timezone.utc)}]"
      ]
     },
     "execution_count": 59,
     "metadata": {},
     "output_type": "execute_result"
    }
   ],
   "source": [
    "org_airports"
   ]
  },
  {
   "cell_type": "code",
   "execution_count": 62,
   "id": "22cc9ea3",
   "metadata": {},
   "outputs": [
    {
     "data": {
      "text/plain": [
       "{'id': UUID('18f39ed3-00bc-4bf0-ac99-35f10a0cf888'), 'org_id': UUID('6c26bb58-b361-4feb-aa6b-1f01599200c5'), 'iata': 'ETM', 'icao': 'LLER', 'name': 'Ramon Airport', 'city': 'HaDarom', 'state': '', 'country': 'Israel', 'is_hub': False, 'created_at': datetime.datetime(2025, 8, 26, 7, 42, 0, 734780, tzinfo=datetime.timezone.utc), 'updated_at': datetime.datetime(2025, 8, 26, 7, 42, 0, 734780, tzinfo=datetime.timezone.utc)}"
      ]
     },
     "execution_count": 62,
     "metadata": {},
     "output_type": "execute_result"
    }
   ],
   "source": [
    "from app.db.operations.airports import get_airport\n",
    " \n",
    "ramon_airport_id = \"18f39ed3-00bc-4bf0-ac99-35f10a0cf888\"\n",
    "ramon_airport = await get_airport(airport_id=ramon_airport_id, organization_id=org_id)\n",
    "ramon_airport"
   ]
  },
  {
   "cell_type": "code",
   "execution_count": null,
   "id": "edb6f467",
   "metadata": {},
   "outputs": [],
   "source": [
    "from app.db.operations.airports import update_airport\n",
    " \n",
    "ramon_airport_id = \"18f39ed3-00bc-4bf0-ac99-35f10a0cf888\"\n",
    "data_to_update = {\"name\": \"Ramon International Airport\"}\n",
    "updated_ramon_airport = await update_airport(airport_id=ramon_airport_id, organization_id=org_id, airport=data_to_update)\n",
    "updated_ramon_airport"
   ]
  }
 ],
 "metadata": {
  "kernelspec": {
   "display_name": ".venv",
   "language": "python",
   "name": "python3"
  },
  "language_info": {
   "codemirror_mode": {
    "name": "ipython",
    "version": 3
   },
   "file_extension": ".py",
   "mimetype": "text/x-python",
   "name": "python",
   "nbconvert_exporter": "python",
   "pygments_lexer": "ipython3",
   "version": "3.13.7"
  }
 },
 "nbformat": 4,
 "nbformat_minor": 5
}
