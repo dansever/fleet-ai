{
 "cells": [
  {
   "cell_type": "code",
   "execution_count": 6,
   "id": "2de32c2d",
   "metadata": {},
   "outputs": [
    {
     "name": "stdout",
     "output_type": "stream",
     "text": [
      "app loaded from: C:\\Users\\danse\\Projects\\FleetAI V1\\fleet-ai\\apps\\backend\\app\\__init__.py\n"
     ]
    }
   ],
   "source": [
    "# --- Notebook bootstrap: locate backend, fix sys.path, ensure packages ---\n",
    "import sys\n",
    "from pathlib import Path\n",
    "\n",
    "def find_backend_root(start: Path, look_for=\"app\") -> Path:\n",
    "    cur = start.resolve()\n",
    "    for _ in range(10):\n",
    "        if (cur / look_for).is_dir():\n",
    "            return cur\n",
    "        cur = cur.parent\n",
    "    raise RuntimeError(f\"Couldn't find '{look_for}/' starting from {start}\")\n",
    "\n",
    "# 1) Find backend root (directory that contains app/)\n",
    "BACKEND_ROOT = find_backend_root(Path.cwd(), \"app\")\n",
    "\n",
    "# 2) Ensure package markers exist (safe if already present)\n",
    "for pkg in [BACKEND_ROOT / \"app\", BACKEND_ROOT / \"app\" / \"db\", BACKEND_ROOT / \"app\" / \"db\" / \"operations\"]:\n",
    "    (pkg / \"__init__.py\").touch(exist_ok=True)\n",
    "\n",
    "# # 3) Put backend root on import path\n",
    "if str(BACKEND_ROOT) not in sys.path:\n",
    "    sys.path.insert(0, str(BACKEND_ROOT))\n",
    "\n",
    "# 4) Quick sanity check\n",
    "import importlib\n",
    "app_mod = importlib.import_module(\"app\")\n",
    "print(\"app loaded from:\", app_mod.__file__)\n"
   ]
  },
  {
   "cell_type": "code",
   "execution_count": 10,
   "id": "b649bf93",
   "metadata": {},
   "outputs": [
    {
     "name": "stdout",
     "output_type": "stream",
     "text": [
      "2025-08-27 10:26:14,960 INFO sqlalchemy.engine.Engine BEGIN (implicit)\n",
      "2025-08-27 10:26:14,960 INFO sqlalchemy.engine.Engine SELECT airports.id, airports.org_id, airports.name, airports.country, airports.created_at, airports.updated_at, airports.iata, airports.icao, airports.city, airports.state, airports.is_hub, airports.internal_notes \n",
      "FROM airports \n",
      "WHERE airports.org_id = $1::UUID\n",
      "2025-08-27 10:26:14,961 INFO sqlalchemy.engine.Engine [cached since 77.4s ago] ('6c26bb58-b361-4feb-aa6b-1f01599200c5',)\n",
      "2025-08-27 10:26:14,963 INFO sqlalchemy.engine.Engine ROLLBACK\n",
      "0 <app.db.models_auto.Airports object at 0x0000015F084F71D0>\n",
      "1 <app.db.models_auto.Airports object at 0x0000015F084F7B90>\n",
      "2 <app.db.models_auto.Airports object at 0x0000015F084F7A10>\n",
      "3 <app.db.models_auto.Airports object at 0x0000015F084F77D0>\n",
      "4 <app.db.models_auto.Airports object at 0x0000015F084F6810>\n",
      "5 <app.db.models_auto.Airports object at 0x0000015F084F7AD0>\n",
      "6 <app.db.models_auto.Airports object at 0x0000015F084F7C50>\n",
      "\n",
      "Rome–Fiumicino International Airport, Lazio, Italy (FCO)\n"
     ]
    }
   ],
   "source": [
    "from app.db.session import AsyncSessionLocal\n",
    "from app.db.operations.airports import get_airports_by_org\n",
    "\n",
    "# Pick an actual org_id from your DB\n",
    "org_id = \"6c26bb58-b361-4feb-aa6b-1f01599200c5\"\n",
    "\n",
    "async with AsyncSessionLocal() as session:\n",
    "  airports = await get_airports_by_org(session, org_id)\n",
    "\n",
    "for i, airport  in enumerate(airports):\n",
    "    print(i, airport)\n",
    "\n",
    "selected_airport = airports[0]\n",
    "name = selected_airport.name\n",
    "city = selected_airport.city\n",
    "country = selected_airport.country\n",
    "code = selected_airport.iata\n",
    "print(f\"\\n{name}, {city}, {country} ({code})\")\n"
   ]
  }
 ],
 "metadata": {
  "kernelspec": {
   "display_name": ".venv",
   "language": "python",
   "name": "python3"
  },
  "language_info": {
   "codemirror_mode": {
    "name": "ipython",
    "version": 3
   },
   "file_extension": ".py",
   "mimetype": "text/x-python",
   "name": "python",
   "nbconvert_exporter": "python",
   "pygments_lexer": "ipython3",
   "version": "3.13.7"
  }
 },
 "nbformat": 4,
 "nbformat_minor": 5
}
