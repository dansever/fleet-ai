{
 "cells": [
  {
   "cell_type": "markdown",
   "id": "40910410",
   "metadata": {},
   "source": [
    "### Setup and Imports"
   ]
  },
  {
   "cell_type": "code",
   "execution_count": 22,
   "id": "37e022ed",
   "metadata": {},
   "outputs": [
    {
     "name": "stdout",
     "output_type": "stream",
     "text": [
      "The autoreload extension is already loaded. To reload it, use:\n",
      "  %reload_ext autoreload\n"
     ]
    }
   ],
   "source": [
    "# Auto-reload changes to the backend code\n",
    "%load_ext autoreload\n",
    "%autoreload 2\n",
    "\n",
    "import sys\n",
    "import os\n",
    "import asyncio\n",
    "\n",
    "# Add the backend directory to Python path\n",
    "current_dir = os.getcwd()\n",
    "backend_dir = os.path.join(current_dir, '..', '..')\n",
    "sys.path.insert(0, os.path.abspath(backend_dir))"
   ]
  },
  {
   "cell_type": "markdown",
   "id": "8a3d87c6",
   "metadata": {},
   "source": [
    "### Test Airport Operations"
   ]
  },
  {
   "cell_type": "code",
   "execution_count": 23,
   "id": "a74c68f7",
   "metadata": {},
   "outputs": [
    {
     "name": "stdout",
     "output_type": "stream",
     "text": [
      "=== Testing Airport Operations ===\n",
      "2025-08-28 11:11:41,599 INFO sqlalchemy.engine.Engine BEGIN (implicit)\n",
      "2025-08-28 11:11:41,600 INFO sqlalchemy.engine.Engine SELECT airports.id, airports.org_id, airports.name, airports.country, airports.created_at, airports.updated_at, airports.iata, airports.icao, airports.city, airports.state, airports.is_hub, airports.internal_notes \n",
      "FROM airports \n",
      "WHERE airports.org_id = $1::UUID\n",
      "2025-08-28 11:11:41,601 INFO sqlalchemy.engine.Engine [cached since 699.6s ago] ('6c26bb58-b361-4feb-aa6b-1f01599200c5',)\n"
     ]
    },
    {
     "data": {
      "text/plain": [
       "[<Airports id=d894a9cd044d4db4bec0267a1550d764, org_id=6c26bb58b3614febaa6b1f01599200c5, name='Rome–Fiumicino International Airport', country='Italy', created_at=2025-08-24T13:04:45Z, updated_at=2025-08-24T13:04:45Z, iata='FCO', icao='LIRF', city='Lazio', state='', is_hub=False>,\n",
       " <Airports id=36585cfa566c4668b1fc0fdd4c7c317d, org_id=6c26bb58b3614febaa6b1f01599200c5, name='Ben Gurion Airport', country='Israel', created_at=2025-08-24T12:44:45Z, updated_at=2025-08-24T12:44:45Z, iata='TLV', icao='LLBG', city='Tel Aviv', state='', is_hub=True>,\n",
       " <Airports id=aca0527771e3453ba001e42045988cf7, org_id=6c26bb58b3614febaa6b1f01599200c5, name='Athens International Airport (Eleftherios Venizelos Airport)', country='Greece', created_at=2025-08-24T15:09:32Z, updated_at=2025-08-24T15:09:32Z, iata='ATH', icao='LGAV', city='Attiki', state='', is_hub=False>,\n",
       " <Airports id=83aea565a6e44ee7a39ad0c198da81dd, org_id=6c26bb58b3614febaa6b1f01599200c5, name='Paris Charles de Gaulle Airport', country='France', created_at=2025-08-24T15:09:46Z, updated_at=2025-08-24T15:09:46Z, iata='CDG', icao='LFPG', city='Ile-de-France', state='', is_hub=False>,\n",
       " <Airports id=443e546faabe4845b2f79ac347e8ae58, org_id=6c26bb58b3614febaa6b1f01599200c5, name='Newark Liberty International Airport', country='United States', created_at=2025-08-25T13:40:29Z, updated_at=2025-08-25T13:40:29Z, iata='EWR', icao='KEWR', city='New Jersey', state='', is_hub=False>,\n",
       " <Airports id=4d2a2551e9114b13800c156288b64cf9, org_id=6c26bb58b3614febaa6b1f01599200c5, name='Verona Villafranca Airport', country='Italy', created_at=2025-08-26T07:38:51Z, updated_at=2025-08-26T07:38:51Z, iata='VRN', icao='LIPX', city='Veneto', state='', is_hub=False>,\n",
       " <Airports id=18f39ed300bc4bf0ac9935f10a0cf888, org_id=6c26bb58b3614febaa6b1f01599200c5, name='Ramon Airport', country='Israel', created_at=2025-08-26T07:42:00Z, updated_at=2025-08-26T07:42:00Z, iata='ETM', icao='LLER', city='HaDarom', state='', is_hub=False>]"
      ]
     },
     "execution_count": 23,
     "metadata": {},
     "output_type": "execute_result"
    },
    {
     "name": "stdout",
     "output_type": "stream",
     "text": [
      "2025-08-28 11:11:41,614 INFO sqlalchemy.engine.Engine ROLLBACK\n"
     ]
    }
   ],
   "source": [
    "from app.db import get_db, get_airports_by_org, get_quotes_by_rfq_id, get_user_by_id\n",
    "from app.db.models_auto import Airports, Quotes, Users\n",
    "\n",
    "async def test_airports():\n",
    "    \"\"\"Test airport operations\"\"\"\n",
    "    print(\"=== Testing Airport Operations ===\")\n",
    "    \n",
    "    async for session in get_db():\n",
    "        # Get airports by organization\n",
    "        org_id = \"6c26bb58-b361-4feb-aa6b-1f01599200c5\"\n",
    "        airports = await get_airports_by_org(session, org_id)\n",
    "        return airports\n",
    "\n",
    "# Run the test\n",
    "await test_airports()\n"
   ]
  },
  {
   "cell_type": "markdown",
   "id": "b34cc8be",
   "metadata": {},
   "source": [
    "### Test Raw SQL Queries"
   ]
  },
  {
   "cell_type": "code",
   "execution_count": 24,
   "id": "4ae64bf8",
   "metadata": {},
   "outputs": [
    {
     "name": "stdout",
     "output_type": "stream",
     "text": [
      "=== Testing Raw SQL Queries ===\n",
      "Raw query found 5 airports\n"
     ]
    },
    {
     "data": {
      "text/plain": [
       "{'id': UUID('d894a9cd-044d-4db4-bec0-267a1550d764'),\n",
       " 'org_id': UUID('6c26bb58-b361-4feb-aa6b-1f01599200c5'),\n",
       " 'iata': 'FCO',\n",
       " 'icao': 'LIRF',\n",
       " 'name': 'Rome–Fiumicino International Airport',\n",
       " 'city': 'Lazio',\n",
       " 'state': '',\n",
       " 'country': 'Italy',\n",
       " 'is_hub': False,\n",
       " 'internal_notes': None,\n",
       " 'created_at': datetime.datetime(2025, 8, 24, 13, 4, 45, 962063, tzinfo=datetime.timezone.utc),\n",
       " 'updated_at': datetime.datetime(2025, 8, 24, 13, 4, 45, 962063, tzinfo=datetime.timezone.utc)}"
      ]
     },
     "execution_count": 24,
     "metadata": {},
     "output_type": "execute_result"
    }
   ],
   "source": [
    "async def test_raw_queries():\n",
    "    \"\"\"Test raw SQL queries using asyncpg\"\"\"\n",
    "    print(\"=== Testing Raw SQL Queries ===\")\n",
    "    \n",
    "    from app.db import get_db_connection\n",
    "    \n",
    "    pool = await get_db_connection()\n",
    "    \n",
    "    async with pool.acquire() as conn:\n",
    "        # Example: Get all airports\n",
    "        airports = await conn.fetch(\"SELECT * FROM airports LIMIT 5\")\n",
    "        print(f\"Raw query found {len(airports)} airports\")\n",
    "        return airports\n",
    "\n",
    "# Run the test\n",
    "airports = await test_raw_queries()\n",
    "dict(airports[0])"
   ]
  }
 ],
 "metadata": {
  "kernelspec": {
   "display_name": ".venv",
   "language": "python",
   "name": "python3"
  },
  "language_info": {
   "codemirror_mode": {
    "name": "ipython",
    "version": 3
   },
   "file_extension": ".py",
   "mimetype": "text/x-python",
   "name": "python",
   "nbconvert_exporter": "python",
   "pygments_lexer": "ipython3",
   "version": "3.13.7"
  }
 },
 "nbformat": 4,
 "nbformat_minor": 5
}
