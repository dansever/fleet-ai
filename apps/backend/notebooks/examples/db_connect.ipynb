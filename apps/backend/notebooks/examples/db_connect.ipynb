{
 "cells": [
  {
   "cell_type": "markdown",
   "id": "40910410",
   "metadata": {},
   "source": [
    "### Setup and Imports"
   ]
  },
  {
   "cell_type": "code",
   "execution_count": 10,
   "id": "37e022ed",
   "metadata": {},
   "outputs": [
    {
     "name": "stdout",
     "output_type": "stream",
     "text": [
      "The autoreload extension is already loaded. To reload it, use:\n",
      "  %reload_ext autoreload\n"
     ]
    }
   ],
   "source": [
    "# Auto-reload changes to the backend code\n",
    "%load_ext autoreload\n",
    "%autoreload 2\n",
    "\n",
    "import sys\n",
    "import os\n",
    "import asyncio\n",
    "\n",
    "# Add the backend directory to Python path\n",
    "current_dir = os.getcwd()\n",
    "backend_dir = os.path.join(current_dir, '..', '..')\n",
    "sys.path.insert(0, os.path.abspath(backend_dir))"
   ]
  },
  {
   "cell_type": "markdown",
   "id": "8a3d87c6",
   "metadata": {},
   "source": [
    "### Test Airport Operations"
   ]
  },
  {
   "cell_type": "code",
   "execution_count": 9,
   "id": "a74c68f7",
   "metadata": {},
   "outputs": [
    {
     "ename": "ImportError",
     "evalue": "cannot import name 'Base' from 'app.db.models_auto' (c:\\Users\\danse\\Projects\\FleetAI V1\\fleet-ai\\apps\\backend\\app\\db\\models_auto.py)",
     "output_type": "error",
     "traceback": [
      "\u001b[31m---------------------------------------------------------------------------\u001b[39m",
      "\u001b[31mImportError\u001b[39m                               Traceback (most recent call last)",
      "\u001b[36mCell\u001b[39m\u001b[36m \u001b[39m\u001b[32mIn[9]\u001b[39m\u001b[32m, line 1\u001b[39m\n\u001b[32m----> \u001b[39m\u001b[32m1\u001b[39m \u001b[38;5;28;01mfrom\u001b[39;00m\u001b[38;5;250m \u001b[39m\u001b[34;01mapp\u001b[39;00m\u001b[34;01m.\u001b[39;00m\u001b[34;01mdb\u001b[39;00m\u001b[38;5;250m \u001b[39m\u001b[38;5;28;01mimport\u001b[39;00m get_db, get_airports_by_org\n\u001b[32m      3\u001b[39m \u001b[38;5;28;01masync\u001b[39;00m \u001b[38;5;28;01mdef\u001b[39;00m\u001b[38;5;250m \u001b[39m\u001b[34mtest_airports\u001b[39m():\n\u001b[32m      4\u001b[39m \u001b[38;5;250m    \u001b[39m\u001b[33;03m\"\"\"Test airport operations\"\"\"\u001b[39;00m\n",
      "\u001b[36mFile \u001b[39m\u001b[32mc:\\Users\\danse\\Projects\\FleetAI V1\\fleet-ai\\apps\\backend\\app\\__init__.py:4\u001b[39m\n\u001b[32m      2\u001b[39m \u001b[33;03m\"\"\"Backend application package.\"\"\"\u001b[39;00m\n\u001b[32m      3\u001b[39m \u001b[38;5;28;01mfrom\u001b[39;00m\u001b[38;5;250m \u001b[39m\u001b[34;01m.\u001b[39;00m\u001b[34;01mservices\u001b[39;00m\u001b[38;5;250m \u001b[39m\u001b[38;5;28;01mimport\u001b[39;00m *\n\u001b[32m----> \u001b[39m\u001b[32m4\u001b[39m \u001b[38;5;28;01mfrom\u001b[39;00m\u001b[38;5;250m \u001b[39m\u001b[34;01m.\u001b[39;00m\u001b[34;01mdb\u001b[39;00m\u001b[38;5;250m \u001b[39m\u001b[38;5;28;01mimport\u001b[39;00m *\n\u001b[32m      6\u001b[39m __all__ = [\n\u001b[32m      7\u001b[39m     \u001b[33m\"\u001b[39m\u001b[33mservices\u001b[39m\u001b[33m\"\u001b[39m,\n\u001b[32m      8\u001b[39m     \u001b[33m\"\u001b[39m\u001b[33mdb\u001b[39m\u001b[33m\"\u001b[39m,\n\u001b[32m      9\u001b[39m ]\n",
      "\u001b[36mFile \u001b[39m\u001b[32mc:\\Users\\danse\\Projects\\FleetAI V1\\fleet-ai\\apps\\backend\\app\\db\\__init__.py:3\u001b[39m\n\u001b[32m      1\u001b[39m \u001b[38;5;66;03m# apps/backend/app/db/__init__.py\u001b[39;00m\n\u001b[32m      2\u001b[39m \u001b[38;5;28;01mfrom\u001b[39;00m\u001b[38;5;250m \u001b[39m\u001b[34;01mapp\u001b[39;00m\u001b[34;01m.\u001b[39;00m\u001b[34;01mdb\u001b[39;00m\u001b[38;5;250m \u001b[39m\u001b[38;5;28;01mimport\u001b[39;00m models_auto  \u001b[38;5;66;03m# ensures all models are imported and mapped\u001b[39;00m\n\u001b[32m----> \u001b[39m\u001b[32m3\u001b[39m \u001b[38;5;28;01mfrom\u001b[39;00m\u001b[38;5;250m \u001b[39m\u001b[34;01mapp\u001b[39;00m\u001b[34;01m.\u001b[39;00m\u001b[34;01mdb\u001b[39;00m\u001b[34;01m.\u001b[39;00m\u001b[34;01mmodels_auto\u001b[39;00m\u001b[38;5;250m \u001b[39m\u001b[38;5;28;01mimport\u001b[39;00m Base\n\u001b[32m      4\u001b[39m \u001b[38;5;28;01mfrom\u001b[39;00m\u001b[38;5;250m \u001b[39m\u001b[34;01mapp\u001b[39;00m\u001b[34;01m.\u001b[39;00m\u001b[34;01mdb\u001b[39;00m\u001b[34;01m.\u001b[39;00m\u001b[34;01mrepr_patch\u001b[39;00m\u001b[38;5;250m \u001b[39m\u001b[38;5;28;01mimport\u001b[39;00m attach_repr_and_to_dict\n\u001b[32m      5\u001b[39m \u001b[38;5;28;01mfrom\u001b[39;00m\u001b[38;5;250m \u001b[39m\u001b[34;01m.\u001b[39;00m\u001b[34;01msession\u001b[39;00m\u001b[38;5;250m \u001b[39m\u001b[38;5;28;01mimport\u001b[39;00m get_db_connection, close_db_connection, get_db\n",
      "\u001b[31mImportError\u001b[39m: cannot import name 'Base' from 'app.db.models_auto' (c:\\Users\\danse\\Projects\\FleetAI V1\\fleet-ai\\apps\\backend\\app\\db\\models_auto.py)"
     ]
    }
   ],
   "source": [
    "from app.db import get_db, get_airports_by_org\n",
    "\n",
    "async def test_airports():\n",
    "    \"\"\"Test airport operations\"\"\"\n",
    "    print(\"=== Testing Airport Operations ===\")\n",
    "    \n",
    "    async for session in get_db():\n",
    "        # Get airports by organization\n",
    "        org_id = \"6c26bb58-b361-4feb-aa6b-1f01599200c5\"\n",
    "        airports = await get_airports_by_org(session, org_id)\n",
    "        return airports\n",
    "\n",
    "# Run the test\n",
    "await test_airports()\n"
   ]
  },
  {
   "cell_type": "markdown",
   "id": "b34cc8be",
   "metadata": {},
   "source": [
    "### Test Raw SQL Queries"
   ]
  },
  {
   "cell_type": "code",
   "execution_count": 29,
   "id": "4ae64bf8",
   "metadata": {},
   "outputs": [
    {
     "name": "stdout",
     "output_type": "stream",
     "text": [
      "=== Testing Raw SQL Queries ===\n",
      "Raw query found 5 airports\n"
     ]
    },
    {
     "data": {
      "text/plain": [
       "{'id': UUID('d894a9cd-044d-4db4-bec0-267a1550d764'),\n",
       " 'org_id': UUID('6c26bb58-b361-4feb-aa6b-1f01599200c5'),\n",
       " 'iata': 'FCO',\n",
       " 'icao': 'LIRF',\n",
       " 'name': 'Rome–Fiumicino International Airport',\n",
       " 'city': 'Lazio',\n",
       " 'state': '',\n",
       " 'country': 'Italy',\n",
       " 'is_hub': False,\n",
       " 'internal_notes': None,\n",
       " 'created_at': datetime.datetime(2025, 8, 24, 13, 4, 45, 962063, tzinfo=datetime.timezone.utc),\n",
       " 'updated_at': datetime.datetime(2025, 8, 24, 13, 4, 45, 962063, tzinfo=datetime.timezone.utc)}"
      ]
     },
     "execution_count": 29,
     "metadata": {},
     "output_type": "execute_result"
    }
   ],
   "source": [
    "async def test_raw_queries():\n",
    "    \"\"\"Test raw SQL queries using asyncpg\"\"\"\n",
    "    print(\"=== Testing Raw SQL Queries ===\")\n",
    "    \n",
    "    from app.db import get_db_connection\n",
    "    \n",
    "    pool = await get_db_connection()\n",
    "    \n",
    "    async with pool.acquire() as conn:\n",
    "        # Example: Get all airports\n",
    "        airports = await conn.fetch(\"SELECT * FROM airports LIMIT 5\")\n",
    "        print(f\"Raw query found {len(airports)} airports\")\n",
    "        return airports\n",
    "\n",
    "# Run the test\n",
    "airports = await test_raw_queries()\n",
    "dict(airports[0])"
   ]
  }
 ],
 "metadata": {
  "kernelspec": {
   "display_name": ".venv",
   "language": "python",
   "name": "python3"
  },
  "language_info": {
   "codemirror_mode": {
    "name": "ipython",
    "version": 3
   },
   "file_extension": ".py",
   "mimetype": "text/x-python",
   "name": "python",
   "nbconvert_exporter": "python",
   "pygments_lexer": "ipython3",
   "version": "3.13.7"
  }
 },
 "nbformat": 4,
 "nbformat_minor": 5
}
