{
 "cells": [
  {
   "cell_type": "markdown",
   "id": "40910410",
   "metadata": {},
   "source": [
    "### Setup and Imports"
   ]
  },
  {
   "cell_type": "code",
   "execution_count": 1,
   "id": "37e022ed",
   "metadata": {},
   "outputs": [
    {
     "name": "stderr",
     "output_type": "stream",
     "text": [
      "c:\\Users\\danse\\Projects\\FleetAI V1\\fleet-ai\\apps\\backend\\app\\db\\models_auto.py:67: SAWarning: Implicitly combining column organizations.created_at with column org_settings.created_at under attribute 'created_at'.  Please configure one or more attributes for these same-named columns explicitly.\n",
      "  class OrgSettings(Organizations):\n",
      "c:\\Users\\danse\\Projects\\FleetAI V1\\fleet-ai\\apps\\backend\\app\\db\\models_auto.py:67: SAWarning: Implicitly combining column organizations.updated_at with column org_settings.updated_at under attribute 'updated_at'.  Please configure one or more attributes for these same-named columns explicitly.\n",
      "  class OrgSettings(Organizations):\n"
     ]
    }
   ],
   "source": [
    "import sys\n",
    "import os\n",
    "import asyncio\n",
    "\n",
    "# Add the backend directory to Python path\n",
    "current_dir = os.getcwd()\n",
    "backend_dir = os.path.join(current_dir, '..', '..')\n",
    "sys.path.insert(0, os.path.abspath(backend_dir))\n",
    "\n",
    "from app.db import get_db, get_airports_by_org, get_quotes_by_rfq_id, get_user_by_id\n",
    "from app.db.models_auto import Airports, Quotes, Users"
   ]
  },
  {
   "cell_type": "markdown",
   "id": "8a3d87c6",
   "metadata": {},
   "source": [
    "### Test Airport Operations"
   ]
  },
  {
   "cell_type": "code",
   "execution_count": 2,
   "id": "a74c68f7",
   "metadata": {},
   "outputs": [
    {
     "name": "stdout",
     "output_type": "stream",
     "text": [
      "=== Testing Airport Operations ===\n",
      "2025-08-28 10:21:42,981 INFO sqlalchemy.engine.Engine select pg_catalog.version()\n",
      "2025-08-28 10:21:42,982 INFO sqlalchemy.engine.Engine [raw sql] ()\n",
      "2025-08-28 10:21:42,992 INFO sqlalchemy.engine.Engine select current_schema()\n",
      "2025-08-28 10:21:42,993 INFO sqlalchemy.engine.Engine [raw sql] ()\n",
      "2025-08-28 10:21:43,001 INFO sqlalchemy.engine.Engine show standard_conforming_strings\n",
      "2025-08-28 10:21:43,002 INFO sqlalchemy.engine.Engine [raw sql] ()\n",
      "2025-08-28 10:21:43,010 INFO sqlalchemy.engine.Engine BEGIN (implicit)\n",
      "2025-08-28 10:21:43,122 INFO sqlalchemy.engine.Engine SELECT airports.id, airports.org_id, airports.name, airports.country, airports.created_at, airports.updated_at, airports.iata, airports.icao, airports.city, airports.state, airports.is_hub, airports.internal_notes \n",
      "FROM airports \n",
      "WHERE airports.org_id = $1::UUID\n",
      "2025-08-28 10:21:43,124 INFO sqlalchemy.engine.Engine [generated in 0.00214s] ('6c26bb58-b361-4feb-aa6b-1f01599200c5',)\n",
      "Found 7 airports for org 6c26bb58-b361-4feb-aa6b-1f01599200c5\n",
      "- Rome–Fiumicino International Airport (FCO)\n",
      "- Ben Gurion Airport (TLV)\n",
      "- Athens International Airport (Eleftherios Venizelos Airport) (ATH)\n",
      "- Paris Charles de Gaulle Airport (CDG)\n",
      "- Newark Liberty International Airport (EWR)\n",
      "- Verona Villafranca Airport (VRN)\n",
      "- Ramon Airport (ETM)\n",
      "2025-08-28 10:21:43,138 INFO sqlalchemy.engine.Engine ROLLBACK\n"
     ]
    }
   ],
   "source": [
    "async def test_airports():\n",
    "    \"\"\"Test airport operations\"\"\"\n",
    "    print(\"=== Testing Airport Operations ===\")\n",
    "    \n",
    "    async for session in get_db():\n",
    "        # Get airports by organization\n",
    "        org_id = \"6c26bb58-b361-4feb-aa6b-1f01599200c5\"\n",
    "        airports = await get_airports_by_org(session, org_id)\n",
    "        \n",
    "        print(f\"Found {len(airports)} airports for org {org_id}\")\n",
    "        for airport in airports:\n",
    "            print(f\"- {airport.name} ({airport.iata})\")\n",
    "        \n",
    "        break  # Exit the async generator\n",
    "\n",
    "# Run the test\n",
    "await test_airports()"
   ]
  },
  {
   "cell_type": "markdown",
   "id": "b34cc8be",
   "metadata": {},
   "source": [
    "### Test Raw SQL Queries"
   ]
  },
  {
   "cell_type": "code",
   "execution_count": null,
   "id": "e50f7f40",
   "metadata": {},
   "outputs": [
    {
     "name": "stdout",
     "output_type": "stream",
     "text": [
      "=== Testing Raw SQL Queries ===\n",
      "Raw query found 5 airports\n",
      "- Rome–Fiumicino International Airport - (LIRF)\n",
      "- Ben Gurion Airport - (LLBG)\n",
      "- Athens International Airport (Eleftherios Venizelos Airport) - (LGAV)\n",
      "- Paris Charles de Gaulle Airport - (LFPG)\n",
      "- Newark Liberty International Airport - (KEWR)\n"
     ]
    }
   ],
   "source": [
    "async def test_raw_queries():\n",
    "    \"\"\"Test raw SQL queries using asyncpg\"\"\"\n",
    "    print(\"=== Testing Raw SQL Queries ===\")\n",
    "    \n",
    "    from app.db import get_db_connection\n",
    "    \n",
    "    pool = await get_db_connection()\n",
    "    \n",
    "    async with pool.acquire() as conn:\n",
    "        # Example: Get all airports\n",
    "        airports = await conn.fetch(\"SELECT * FROM airports LIMIT 5\")\n",
    "        print(f\"Raw query found {len(airports)} airports\")\n",
    "        \n",
    "        for airport in airports:\n",
    "            print(f\"- {airport['name']} ({airport['icao']})\")\n",
    "\n",
    "# Run the test\n",
    "await test_raw_queries()"
   ]
  }
 ],
 "metadata": {
  "kernelspec": {
   "display_name": ".venv",
   "language": "python",
   "name": "python3"
  },
  "language_info": {
   "codemirror_mode": {
    "name": "ipython",
    "version": 3
   },
   "file_extension": ".py",
   "mimetype": "text/x-python",
   "name": "python",
   "nbconvert_exporter": "python",
   "pygments_lexer": "ipython3",
   "version": "3.13.7"
  }
 },
 "nbformat": 4,
 "nbformat_minor": 5
}
