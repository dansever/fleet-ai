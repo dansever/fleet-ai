{
  "cells": [
    {
      "cell_type": "markdown",
      "metadata": {},
      "source": [
        "# Fuel Bid Extraction Testing\n",
        "\n",
        "This notebook tests the fuel bid extraction functionality using the Fleet AI backend services.\n",
        "We'll extract structured data from fuel bid documents using LlamaIndex extraction agents.\n"
      ]
    },
    {
      "cell_type": "markdown",
      "metadata": {},
      "source": [
        "## Setup and Imports\n"
      ]
    },
    {
      "cell_type": "code",
      "execution_count": 3,
      "metadata": {},
      "outputs": [
        {
          "name": "stdout",
          "output_type": "stream",
          "text": [
            "🐍 Updated Python path: ['c:\\\\Users\\\\danse\\\\Projects\\\\FleetAI V1\\\\fleet-ai\\\\apps\\\\backend', 'c:\\\\Users\\\\danse\\\\Projects\\\\FleetAI V1\\\\fleet-ai\\\\apps\\\\backend', 'C:\\\\Users\\\\danse\\\\AppData\\\\Local\\\\Programs\\\\Python\\\\Python313\\\\python313.zip']...\n"
          ]
        }
      ],
      "source": [
        "#!/usr/bin/env python3\n",
        "import sys\n",
        "import os\n",
        "import json\n",
        "from pathlib import Path\n",
        "from io import BytesIO\n",
        "from datetime import datetime\n",
        "import traceback\n",
        "\n",
        "# Fix the path - we need to go up to backend root, then into app\n",
        "current_dir = Path.cwd()\n",
        "backend_root = current_dir.parent.parent  # Go up from notebooks/model_testing to backend\n",
        "app_path = backend_root / \"app\"\n",
        "\n",
        "# Add the backend root to Python path so we can import app\n",
        "sys.path.insert(0, str(backend_root))\n",
        "\n",
        "print(f\"🐍 Updated Python path: {sys.path[:3]}...\")\n"
      ]
    },
    {
      "cell_type": "markdown",
      "metadata": {},
      "source": [
        "#### Test import to make sure paths work"
      ]
    },
    {
      "cell_type": "code",
      "execution_count": 4,
      "metadata": {},
      "outputs": [
        {
          "name": "stdout",
          "output_type": "stream",
          "text": [
            "✅ Successfully imported required modules\n"
          ]
        }
      ],
      "source": [
        "# Test import to make sure paths work\n",
        "try:\n",
        "    from fastapi import UploadFile\n",
        "    from app.features.fuel.extractor import extract_fuel_bid\n",
        "    print(\"✅ Successfully imported required modules\")\n",
        "except ImportError as e:\n",
        "    print(f\"❌ Import error: {e}\")\n",
        "    print(\"Check that the Python path is set correctly\")\n"
      ]
    },
    {
      "cell_type": "markdown",
      "metadata": {},
      "source": [
        "## File Setup\n"
      ]
    },
    {
      "cell_type": "code",
      "execution_count": 5,
      "metadata": {},
      "outputs": [
        {
          "name": "stdout",
          "output_type": "stream",
          "text": [
            "✅ File exists (55.9 KB)\n"
          ]
        }
      ],
      "source": [
        "# Find the test PDF file\n",
        "test_file_path = Path(\"../test_files/BP Athens Bid Submission.pdf\")\n",
        "if test_file_path.exists():\n",
        "    file_size = test_file_path.stat().st_size\n",
        "    print(f\"✅ File exists ({file_size/1024:.1f} KB)\")\n",
        "else:\n",
        "    print(\"❌ Test file not found!\")\n"
      ]
    },
    {
      "cell_type": "markdown",
      "metadata": {},
      "source": [
        "## Fuel Bid Extraction\n"
      ]
    },
    {
      "cell_type": "code",
      "execution_count": 7,
      "metadata": {},
      "outputs": [
        {
          "name": "stderr",
          "output_type": "stream",
          "text": [
            "2025-08-25 13:58:39 | app.features.fuel.extractor | INFO | extractor.py:14 | 🔍 Starting fuel bid extraction...\n",
            "2025-08-25 13:58:39 | app.utils.io.file_helpers | INFO | file_helpers.py:14 | 📁 Saved temp file\n",
            "2025-08-25 13:58:39 | app.core.agents.extractor.llama_extractor_initializer | INFO | llama_extractor_initializer.py:55 | Initializing LlamaExtract client\n",
            "2025-08-25 13:58:39 | app.core.agents.extractor.llama_extractor_initializer | INFO | llama_extractor_initializer.py:63 | Initialized LlamaExtract client\n",
            "2025-08-25 13:58:43 | app.core.agents.extractor.llama_extractor_initializer | INFO | llama_extractor_initializer.py:72 | Updated schema for agent: fleet-ai-fuel-bid-extractor\n",
            "Uploading files: 100%|██████████| 1/1 [00:02<00:00,  2.15s/it]\n",
            "Creating extraction jobs: 100%|██████████| 1/1 [00:18<00:00, 18.64s/it]\n",
            "Extracting files: 100%|██████████| 1/1 [00:10<00:00, 10.25s/it]\n",
            "2025-08-25 13:59:14 | app.utils.io.file_helpers | INFO | file_helpers.py:25 | 🧹 Cleaned up temp file\n"
          ]
        }
      ],
      "source": [
        "# Simple approach - just like the API does it\n",
        "if test_file_path.exists():\n",
        "    try:\n",
        "        # Import what we need\n",
        "        from fastapi import UploadFile\n",
        "        from app.features.fuel.extractor import extract_fuel_bid\n",
        "                \n",
        "        # Read the PDF file\n",
        "        with open(test_file_path, 'rb') as f:\n",
        "            file_content = f.read()\n",
        "        \n",
        "        # Create UploadFile object (like FastAPI does)\n",
        "        upload_file = UploadFile(\n",
        "            filename=\"BP Athens Bid Submission.pdf\",\n",
        "            file=BytesIO(file_content),\n",
        "            size=len(file_content),\n",
        "            headers={\"content-type\": \"application/pdf\"}\n",
        "        )\n",
        "                \n",
        "        # Call the extractor (same as API route)\n",
        "        result = extract_fuel_bid(upload_file)\n",
        "                \n",
        "    except Exception as e:\n",
        "        print(f\"❌ Error: {str(e)}\")\n",
        "        traceback.print_exc()\n",
        "else:\n",
        "    print(\"❌ Cannot run test - PDF file not found\")\n"
      ]
    },
    {
      "cell_type": "markdown",
      "metadata": {},
      "source": [
        "## Helper Functions\n"
      ]
    },
    {
      "cell_type": "code",
      "execution_count": 11,
      "metadata": {},
      "outputs": [
        {
          "name": "stdout",
          "output_type": "stream",
          "text": [
            "✅ Helper functions defined successfully\n"
          ]
        }
      ],
      "source": [
        "def create_upload_file(file_path: str) -> UploadFile:\n",
        "    \"\"\"\n",
        "    Create an UploadFile object from a local file path.\n",
        "    \n",
        "    Args:\n",
        "        file_path (str): Path to the file to upload\n",
        "        \n",
        "    Returns:\n",
        "        UploadFile: FastAPI UploadFile object\n",
        "    \"\"\"\n",
        "    if not os.path.exists(file_path):\n",
        "        raise FileNotFoundError(f\"File not found: {file_path}\")\n",
        "    \n",
        "    # Read file content\n",
        "    with open(file_path, 'rb') as f:\n",
        "        file_content = f.read()\n",
        "    \n",
        "    # Determine content type based on extension\n",
        "    file_extension = Path(file_path).suffix.lower()\n",
        "    content_type_mapping = {\n",
        "        '.pdf': 'application/pdf',\n",
        "        '.docx': 'application/vnd.openxmlformats-officedocument.wordprocessingml.document',\n",
        "        '.doc': 'application/msword',\n",
        "        '.txt': 'text/plain'\n",
        "    }\n",
        "    content_type = content_type_mapping.get(file_extension, 'application/octet-stream')\n",
        "    \n",
        "    # Create UploadFile object\n",
        "    upload_file = UploadFile(\n",
        "        filename=os.path.basename(file_path),\n",
        "        file=BytesIO(file_content),\n",
        "        size=len(file_content),\n",
        "        headers={\"content-type\": content_type}\n",
        "    )\n",
        "    \n",
        "    print(f\"📄 Created UploadFile: {upload_file.filename} ({content_type}, {len(file_content)} bytes)\")\n",
        "    return upload_file\n",
        "\n",
        "\n",
        "def save_extraction_result(result, output_file: str = \"fuel_bid_extraction_result.json\"):\n",
        "    \"\"\"\n",
        "    Save extraction result to a JSON file with proper serialization.\n",
        "    \n",
        "    Args:\n",
        "        result: The extraction result from the fuel bid extractor\n",
        "        output_file (str): Output filename\n",
        "    \"\"\"\n",
        "    try:\n",
        "        # Extract data from result\n",
        "        if hasattr(result, 'data'):\n",
        "            result_data = result.data\n",
        "        else:\n",
        "            result_data = result\n",
        "        \n",
        "        # Convert to dict for JSON serialization\n",
        "        if hasattr(result_data, 'dict'):\n",
        "            # Pydantic model\n",
        "            json_data = result_data.dict()\n",
        "        elif hasattr(result_data, 'model_dump'):\n",
        "            # Pydantic v2 model\n",
        "            json_data = result_data.model_dump()\n",
        "        elif hasattr(result_data, '__dict__'):\n",
        "            # Regular object\n",
        "            json_data = result_data.__dict__\n",
        "        else:\n",
        "            # Already a dict or primitive\n",
        "            json_data = result_data\n",
        "        \n",
        "        # Add metadata\n",
        "        output_data = {\n",
        "            \"extraction_timestamp\": datetime.now().isoformat(),\n",
        "            \"result_type\": str(type(result_data)),\n",
        "            \"data\": json_data\n",
        "        }\n",
        "        \n",
        "        # Save to file\n",
        "        output_path = Path.cwd() / output_file\n",
        "        with open(output_path, 'w', encoding='utf-8') as f:\n",
        "            json.dump(output_data, f, indent=2, default=str, ensure_ascii=False)\n",
        "        \n",
        "        print(f\"💾 Extraction result saved to: {output_path}\")\n",
        "        return output_path\n",
        "        \n",
        "    except Exception as e:\n",
        "        print(f\"⚠️ Could not save result to JSON: {e}\")\n",
        "        # Fallback: save as string representation\n",
        "        try:\n",
        "            fallback_path = Path.cwd() / f\"{output_file}.txt\"\n",
        "            with open(fallback_path, 'w', encoding='utf-8') as f:\n",
        "                f.write(f\"Extraction Result ({datetime.now().isoformat()})\\n\")\n",
        "                f.write(\"=\" * 50 + \"\\n\")\n",
        "                f.write(str(result))\n",
        "            print(f\"💾 Result saved as text to: {fallback_path}\")\n",
        "            return fallback_path\n",
        "        except Exception as e2:\n",
        "            print(f\"❌ Failed to save result: {e2}\")\n",
        "            return None\n",
        "\n",
        "print(\"✅ Helper functions defined successfully\")\n"
      ]
    },
    {
      "cell_type": "code",
      "execution_count": 12,
      "metadata": {},
      "outputs": [
        {
          "name": "stdout",
          "output_type": "stream",
          "text": [
            "✅ Display function defined successfully\n"
          ]
        }
      ],
      "source": [
        "def display_extraction_summary(result):\n",
        "    \"\"\"\n",
        "    Display a formatted summary of the extraction results.\n",
        "    \n",
        "    Args:\n",
        "        result: The extraction result from the fuel bid extractor\n",
        "    \"\"\"\n",
        "    print(\"\\n\" + \"=\" * 60)\n",
        "    print(\"📊 FUEL BID EXTRACTION SUMMARY\")\n",
        "    print(\"=\" * 60)\n",
        "    \n",
        "    try:\n",
        "        # Extract the data\n",
        "        if hasattr(result, 'data'):\n",
        "            data = result.data\n",
        "        else:\n",
        "            data = result\n",
        "        \n",
        "        print(f\"📋 Result type: {type(data)}\")\n",
        "        \n",
        "        # Convert to dict for easier access\n",
        "        if hasattr(data, 'dict'):\n",
        "            data_dict = data.dict()\n",
        "        elif hasattr(data, 'model_dump'):\n",
        "            data_dict = data.model_dump()\n",
        "        elif hasattr(data, '__dict__'):\n",
        "            data_dict = data.__dict__\n",
        "        elif isinstance(data, dict):\n",
        "            data_dict = data\n",
        "        else:\n",
        "            print(f\"⚠️ Unable to extract data dictionary from: {type(data)}\")\n",
        "            return\n",
        "        \n",
        "        # Display key information\n",
        "        print(f\"\\n🏢 VENDOR INFORMATION:\")\n",
        "        vendor_info = data_dict.get('vendor', {})\n",
        "        if isinstance(vendor_info, dict):\n",
        "            print(f\"   Company: {vendor_info.get('name', 'N/A')}\")\n",
        "            print(f\"   Contact: {vendor_info.get('contact_name', 'N/A')}\")\n",
        "            print(f\"   Email: {vendor_info.get('contact_email', 'N/A')}\")\n",
        "            print(f\"   Phone: {vendor_info.get('contact_phone', 'N/A')}\")\n",
        "        else:\n",
        "            print(f\"   {vendor_info}\")\n",
        "        \n",
        "        print(f\"\\n📝 BID DETAILS:\")\n",
        "        print(f\"   Title: {data_dict.get('title', 'N/A')}\")\n",
        "        print(f\"   Fuel Type: {data_dict.get('fuel_type', 'N/A')}\")\n",
        "        print(f\"   Price Type: {data_dict.get('price_type', 'N/A')}\")\n",
        "        print(f\"   Currency: {data_dict.get('currency', 'N/A')}\")\n",
        "        print(f\"   Unit of Measure: {data_dict.get('uom', 'N/A')}\")\n",
        "        \n",
        "        print(f\"\\n💰 PRICING:\")\n",
        "        base_price = data_dict.get('base_unit_price')\n",
        "        if base_price is not None:\n",
        "            currency = data_dict.get('currency', '')\n",
        "            uom = data_dict.get('uom', '')\n",
        "            print(f\"   Base Unit Price: {base_price} {currency}/{uom}\")\n",
        "        \n",
        "        # Index-based pricing\n",
        "        index_name = data_dict.get('index_name')\n",
        "        if index_name:\n",
        "            print(f\"   Index: {index_name}\")\n",
        "            print(f\"   Index Location: {data_dict.get('index_location', 'N/A')}\")\n",
        "            differential = data_dict.get('differential')\n",
        "            if differential is not None:\n",
        "                print(f\"   Differential: {differential} {data_dict.get('differential_unit', '')}\")\n",
        "        \n",
        "        # Fees\n",
        "        into_plane_fee = data_dict.get('into_plane_fee')\n",
        "        handling_fee = data_dict.get('handling_fee')\n",
        "        if into_plane_fee or handling_fee:\n",
        "            print(f\"\\n💳 FEES:\")\n",
        "            if into_plane_fee:\n",
        "                print(f\"   Into-plane Fee: {into_plane_fee}\")\n",
        "            if handling_fee:\n",
        "                print(f\"   Handling Fee: {handling_fee}\")\n",
        "        \n",
        "        print(f\"\\n📅 VALIDITY:\")\n",
        "        print(f\"   Start Date: {data_dict.get('validity_start_date', 'N/A')}\")\n",
        "        print(f\"   End Date: {data_dict.get('validity_end_date', 'N/A')}\")\n",
        "        print(f\"   Payment Terms: {data_dict.get('payment_terms', 'N/A')}\")\n",
        "        \n",
        "        # AI Summary\n",
        "        ai_summary = data_dict.get('ai_summary')\n",
        "        if ai_summary:\n",
        "            print(f\"\\n🤖 AI SUMMARY:\")\n",
        "            print(f\"   {ai_summary}\")\n",
        "        \n",
        "        # Show all extracted fields\n",
        "        print(f\"\\n🔍 ALL EXTRACTED FIELDS:\")\n",
        "        for key, value in data_dict.items():\n",
        "            if value is not None and value != '':\n",
        "                if isinstance(value, dict):\n",
        "                    print(f\"   {key}: [Object with {len(value)} fields]\")\n",
        "                else:\n",
        "                    # Truncate long values\n",
        "                    value_str = str(value)\n",
        "                    if len(value_str) > 100:\n",
        "                        value_str = value_str[:97] + \"...\"\n",
        "                    print(f\"   {key}: {value_str}\")\n",
        "        \n",
        "    except Exception as e:\n",
        "        print(f\"❌ Error displaying summary: {e}\")\n",
        "        traceback.print_exc()\n",
        "    \n",
        "    print(\"=\" * 60)\n",
        "\n",
        "print(\"✅ Display function defined successfully\")\n"
      ]
    },
    {
      "cell_type": "markdown",
      "metadata": {},
      "source": [
        "# Display Result"
      ]
    },
    {
      "cell_type": "code",
      "execution_count": 13,
      "metadata": {},
      "outputs": [
        {
          "name": "stdout",
          "output_type": "stream",
          "text": [
            "\n",
            "============================================================\n",
            "📊 FUEL BID EXTRACTION SUMMARY\n",
            "============================================================\n",
            "📋 Result type: <class 'dict'>\n",
            "\n",
            "🏢 VENDOR INFORMATION:\n",
            "   Company: BP Aviation\n",
            "   Contact: None\n",
            "   Email: aviation.sales@bp.com\n",
            "   Phone: +44 20 0000 0000\n",
            "\n",
            "📝 BID DETAILS:\n",
            "   Title: Fuel Supply Proposal – Athens International Airport (ATH)\n",
            "   Fuel Type: Jet A-1\n",
            "   Price Type: fixed\n",
            "   Currency: USD\n",
            "   Unit of Measure: USG\n",
            "\n",
            "💰 PRICING:\n",
            "   Base Unit Price: 3.185 USD/USG\n",
            "\n",
            "💳 FEES:\n",
            "   Into-plane Fee: 0.035\n",
            "   Handling Fee: 0.005\n",
            "\n",
            "📅 VALIDITY:\n",
            "   Start Date: 2025-08-15\n",
            "   End Date: 2025-09-30\n",
            "   Payment Terms: Net 30 days from invoice date\n",
            "\n",
            "🤖 AI SUMMARY:\n",
            "   BP Aviation offers a fixed price of USD 3.185 per USG for Jet A-1 fuel at Athens International Airport, valid from 15 August 2025 to 30 September 2025. Into-plane and handling fees are USD 0.035 and USD 0.005 per USG, respectively, with taxes and airport fees excluded. Payment terms are net 30 days from invoice date, and there is no take-or-pay commitment for Year 1. The fuel meets ASTM D1655 and DEF STAN 91-91 standards, and a certificate of analysis is provided per delivery.\n",
            "\n",
            "🔍 ALL EXTRACTED FIELDS:\n",
            "   vendor: [Object with 5 fields]\n",
            "   title: Fuel Supply Proposal – Athens International Airport (ATH)\n",
            "   supplier_comments: Prices exclude any applicable VAT or excise. SAF options can be discussed in subsequent rounds if...\n",
            "   bid_submitted_at: 2025-08-15\n",
            "   ai_summary: BP Aviation offers a fixed price of USD 3.185 per USG for Jet A-1 fuel at Athens International Ai...\n",
            "   price_type: fixed\n",
            "   uom: USG\n",
            "   currency: USD\n",
            "   payment_terms: Net 30 days from invoice date\n",
            "   base_unit_price: 3.185\n",
            "   into_plane_fee: 0.035\n",
            "   handling_fee: 0.005\n",
            "   includes_taxes: False\n",
            "   includes_airport_fees: False\n",
            "   fuel_type: Jet A-1\n",
            "   validity_start_date: 2025-08-15\n",
            "   validity_end_date: 2025-09-30\n",
            "============================================================\n"
          ]
        }
      ],
      "source": [
        "display_extraction_summary(result)"
      ]
    }
  ],
  "metadata": {
    "kernelspec": {
      "display_name": ".venv",
      "language": "python",
      "name": "python3"
    },
    "language_info": {
      "codemirror_mode": {
        "name": "ipython",
        "version": 3
      },
      "file_extension": ".py",
      "mimetype": "text/x-python",
      "name": "python",
      "nbconvert_exporter": "python",
      "pygments_lexer": "ipython3",
      "version": "3.13.7"
    }
  },
  "nbformat": 4,
  "nbformat_minor": 2
}
