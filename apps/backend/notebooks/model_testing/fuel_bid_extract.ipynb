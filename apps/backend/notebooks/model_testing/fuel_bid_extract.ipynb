{
  "cells": [
    {
      "cell_type": "markdown",
      "metadata": {},
      "source": [
        "# Fuel Bid Extraction Testing\n",
        "\n",
        "This notebook tests the fuel bid extraction functionality using the Fleet AI backend services.\n",
        "We'll extract structured data from fuel bid documents using LlamaIndex extraction agents.\n"
      ]
    },
    {
      "cell_type": "markdown",
      "metadata": {},
      "source": [
        "## Setup and Imports\n"
      ]
    },
    {
      "cell_type": "code",
      "execution_count": 59,
      "metadata": {},
      "outputs": [
        {
          "name": "stdout",
          "output_type": "stream",
          "text": [
            "🐍 Updated Python path: ['c:\\\\Users\\\\danse\\\\Projects\\\\FleetAI V1\\\\fleet-ai\\\\apps\\\\backend', 'c:\\\\Users\\\\danse\\\\Projects\\\\FleetAI V1\\\\fleet-ai\\\\apps\\\\backend', 'c:\\\\Users\\\\danse\\\\Projects\\\\FleetAI V1\\\\fleet-ai\\\\apps\\\\backend']...\n"
          ]
        }
      ],
      "source": [
        "#!/usr/bin/env python3\n",
        "import sys\n",
        "import os\n",
        "import json\n",
        "from pathlib import Path\n",
        "from io import BytesIO\n",
        "from datetime import datetime\n",
        "import traceback\n",
        "\n",
        "# Fix the path - we need to go up to backend root, then into app\n",
        "current_dir = Path.cwd()\n",
        "backend_root = current_dir.parent.parent  # Go up from notebooks/model_testing to backend\n",
        "app_path = backend_root / \"app\"\n",
        "\n",
        "# Add the backend root to Python path so we can import app\n",
        "sys.path.insert(0, str(backend_root))\n",
        "\n",
        "print(f\"🐍 Updated Python path: {sys.path[:3]}...\")\n"
      ]
    },
    {
      "cell_type": "markdown",
      "metadata": {},
      "source": [
        "#### Test import to make sure paths work"
      ]
    },
    {
      "cell_type": "code",
      "execution_count": 60,
      "metadata": {},
      "outputs": [
        {
          "name": "stdout",
          "output_type": "stream",
          "text": [
            "✅ Successfully imported required modules\n"
          ]
        }
      ],
      "source": [
        "# Test import to make sure paths work\n",
        "try:\n",
        "    from fastapi import UploadFile\n",
        "    from app.features.fuel.extractor import extract_fuel_bid\n",
        "    print(\"✅ Successfully imported required modules\")\n",
        "except ImportError as e:\n",
        "    print(f\"❌ Import error: {e}\")\n",
        "    print(\"Check that the Python path is set correctly\")\n"
      ]
    },
    {
      "cell_type": "markdown",
      "metadata": {},
      "source": [
        "## File Setup\n"
      ]
    },
    {
      "cell_type": "code",
      "execution_count": 61,
      "metadata": {},
      "outputs": [
        {
          "name": "stdout",
          "output_type": "stream",
          "text": [
            "✅ File exists (55.9 KB)\n"
          ]
        }
      ],
      "source": [
        "# Find the test PDF file\n",
        "test_file_path = Path(\"../test_files/BP Athens Bid Submission.pdf\")\n",
        "if test_file_path.exists():\n",
        "    file_size = test_file_path.stat().st_size\n",
        "    print(f\"✅ File exists ({file_size/1024:.1f} KB)\")\n",
        "else:\n",
        "    print(\"❌ Test file not found!\")\n"
      ]
    },
    {
      "cell_type": "markdown",
      "metadata": {},
      "source": [
        "## Fuel Bid Extraction\n"
      ]
    },
    {
      "cell_type": "code",
      "execution_count": 62,
      "metadata": {},
      "outputs": [
        {
          "name": "stderr",
          "output_type": "stream",
          "text": [
            "2025-08-25 13:50:16 | app.features.fuel.extractor | INFO | extractor.py:14 | 🔍 Starting fuel bid extraction...\n",
            "2025-08-25 13:50:16 | app.utils.io.file_helpers | INFO | file_helpers.py:14 | 📁 Saved temp file: C:\\Users\\danse\\AppData\\Local\\Temp\\tmp1_l2uywk_BP Athens Bid Submission.pdf\n",
            "2025-08-25 13:50:16 | app.services.document_extraction_service | INFO | document_extraction_service.py:40 | 📄 Fuel Bid saved to temporary location: C:\\Users\\danse\\AppData\\Local\\Temp\\tmp1_l2uywk_BP Athens Bid Submission.pdf\n",
            "2025-08-25 13:50:16 | app.core.agents.extractor.llama_extractor_initializer | INFO | llama_extractor_initializer.py:56 | LlamaExtract config: target=ExtractTarget.PER_DOC mode=ExtractMode.BALANCED chunk_mode=ChunkMode.PAGE reasoning=False cite=False invalidate_cache=False\n",
            "2025-08-25 13:50:16 | app.core.agents.extractor.llama_extractor_initializer | INFO | llama_extractor_initializer.py:61 | Initializing LlamaExtract client with project_id: f9b2e64d-491f-4d7e-bcb3-db1e2a73ef28\n",
            "2025-08-25 13:50:16 | app.core.agents.extractor.llama_extractor_initializer | INFO | llama_extractor_initializer.py:69 | Initialized LlamaExtract client\n",
            "2025-08-25 13:50:19 | app.core.agents.extractor.llama_extractor_initializer | INFO | llama_extractor_initializer.py:78 | Updated schema for agent: fleet-ai-fuel-bid-extractor\n",
            "2025-08-25 13:50:19 | app.services.document_extraction_service | INFO | document_extraction_service.py:48 | 🤖 Fuel Bid agent initialized\n",
            "Uploading files: 100%|██████████| 1/1 [00:01<00:00,  1.20s/it]\n",
            "Creating extraction jobs: 100%|██████████| 1/1 [00:01<00:00,  1.25s/it]\n",
            "Extracting files: 100%|██████████| 1/1 [00:08<00:00,  8.19s/it]\n",
            "2025-08-25 13:50:31 | app.utils.io.file_helpers | INFO | file_helpers.py:25 | 🧹 Cleaned up temp file: C:\\Users\\danse\\AppData\\Local\\Temp\\tmp1_l2uywk_BP Athens Bid Submission.pdf\n",
            "2025-08-25 13:50:31 | app.services.document_extraction_service | INFO | document_extraction_service.py:67 | 🧹 Temporary file cleaned up: C:\\Users\\danse\\AppData\\Local\\Temp\\tmp1_l2uywk_BP Athens Bid Submission.pdf\n"
          ]
        },
        {
          "ename": "KeyboardInterrupt",
          "evalue": "",
          "output_type": "error",
          "traceback": [
            "\u001b[31m---------------------------------------------------------------------------\u001b[39m",
            "\u001b[31mKeyboardInterrupt\u001b[39m                         Traceback (most recent call last)",
            "\u001b[36mCell\u001b[39m\u001b[36m \u001b[39m\u001b[32mIn[62]\u001b[39m\u001b[32m, line 21\u001b[39m\n\u001b[32m     13\u001b[39m     upload_file = UploadFile(\n\u001b[32m     14\u001b[39m         filename=\u001b[33m\"\u001b[39m\u001b[33mBP Athens Bid Submission.pdf\u001b[39m\u001b[33m\"\u001b[39m,\n\u001b[32m     15\u001b[39m         file=BytesIO(file_content),\n\u001b[32m     16\u001b[39m         size=\u001b[38;5;28mlen\u001b[39m(file_content),\n\u001b[32m     17\u001b[39m         headers={\u001b[33m\"\u001b[39m\u001b[33mcontent-type\u001b[39m\u001b[33m\"\u001b[39m: \u001b[33m\"\u001b[39m\u001b[33mapplication/pdf\u001b[39m\u001b[33m\"\u001b[39m}\n\u001b[32m     18\u001b[39m     )\n\u001b[32m     20\u001b[39m     \u001b[38;5;66;03m# Call the extractor (same as API route)\u001b[39;00m\n\u001b[32m---> \u001b[39m\u001b[32m21\u001b[39m     result = \u001b[43mextract_fuel_bid\u001b[49m\u001b[43m(\u001b[49m\u001b[43mupload_file\u001b[49m\u001b[43m)\u001b[49m\n\u001b[32m     23\u001b[39m \u001b[38;5;28;01mexcept\u001b[39;00m \u001b[38;5;167;01mException\u001b[39;00m \u001b[38;5;28;01mas\u001b[39;00m e:\n\u001b[32m     24\u001b[39m     \u001b[38;5;28mprint\u001b[39m(\u001b[33mf\u001b[39m\u001b[33m\"\u001b[39m\u001b[33m❌ Error: \u001b[39m\u001b[38;5;132;01m{\u001b[39;00m\u001b[38;5;28mstr\u001b[39m(e)\u001b[38;5;132;01m}\u001b[39;00m\u001b[33m\"\u001b[39m)\n",
            "\u001b[36mFile \u001b[39m\u001b[32mc:\\Users\\danse\\Projects\\FleetAI V1\\fleet-ai\\apps\\backend\\app\\features\\fuel\\extractor.py:16\u001b[39m, in \u001b[36mextract_fuel_bid\u001b[39m\u001b[34m(file)\u001b[39m\n\u001b[32m     14\u001b[39m logger.info(\u001b[33m\"\u001b[39m\u001b[33m🔍 Starting fuel bid extraction...\u001b[39m\u001b[33m\"\u001b[39m)\n\u001b[32m     15\u001b[39m \u001b[38;5;28;01mtry\u001b[39;00m:\n\u001b[32m---> \u001b[39m\u001b[32m16\u001b[39m     result = \u001b[43mprocess_document_extraction\u001b[49m\u001b[43m(\u001b[49m\u001b[43mfile\u001b[49m\u001b[43m=\u001b[49m\u001b[43mfile\u001b[49m\u001b[43m,\u001b[49m\u001b[43m*\u001b[49m\u001b[43m*\u001b[49m\u001b[43mFUEL_BID_CONFIG\u001b[49m\u001b[43m)\u001b[49m\n\u001b[32m     17\u001b[39m     \u001b[38;5;28;01mreturn\u001b[39;00m result\n\u001b[32m     18\u001b[39m \u001b[38;5;28;01mexcept\u001b[39;00m \u001b[38;5;167;01mException\u001b[39;00m \u001b[38;5;28;01mas\u001b[39;00m e:\n",
            "\u001b[36mFile \u001b[39m\u001b[32mc:\\Users\\danse\\Projects\\FleetAI V1\\fleet-ai\\apps\\backend\\app\\services\\document_extraction_service.py:50\u001b[39m, in \u001b[36mprocess_document_extraction\u001b[39m\u001b[34m(file, agent_name, system_prompt, schema_class, log_label, allowed_extensions, allowed_mime_types)\u001b[39m\n\u001b[32m     39\u001b[39m     agent = get_llama_extractor(\n\u001b[32m     40\u001b[39m         agent_name=agent_name,\n\u001b[32m     41\u001b[39m         system_prompt=system_prompt,\n\u001b[32m     42\u001b[39m         data_schema=schema_class,\n\u001b[32m     43\u001b[39m         \u001b[38;5;66;03m# Default values..\u001b[39;00m\n\u001b[32m     44\u001b[39m     )\n\u001b[32m     45\u001b[39m     result = agent.extract(temp_path)\n\u001b[32m     46\u001b[39m     \u001b[38;5;28;01mreturn\u001b[39;00m ResponseEnvelope(\n\u001b[32m     47\u001b[39m         data=result.data,\n\u001b[32m     48\u001b[39m         meta=Meta(\n\u001b[32m     49\u001b[39m             usage=result.extraction_metadata.get(\u001b[33m\"\u001b[39m\u001b[33musage\u001b[39m\u001b[33m\"\u001b[39m, {}) \u001b[38;5;28;01mif\u001b[39;00m result.extraction_metadata \u001b[38;5;28;01melse\u001b[39;00m \u001b[38;5;28;01mNone\u001b[39;00m\n\u001b[32m---> \u001b[39m\u001b[32m50\u001b[39m         )\n\u001b[32m     51\u001b[39m     )\n\u001b[32m     53\u001b[39m \u001b[38;5;28;01mexcept\u001b[39;00m HTTPException:\n\u001b[32m     54\u001b[39m     \u001b[38;5;28;01mraise\u001b[39;00m\n",
            "\u001b[36mFile \u001b[39m\u001b[32mc:\\Users\\danse\\Projects\\FleetAI V1\\fleet-ai\\apps\\backend\\.venv\\Lib\\site-packages\\llama_cloud_services\\extract\\extract.py:617\u001b[39m, in \u001b[36mExtractionAgent.extract\u001b[39m\u001b[34m(self, files)\u001b[39m\n\u001b[32m    606\u001b[39m \u001b[38;5;28;01mdef\u001b[39;00m\u001b[38;5;250m \u001b[39m\u001b[34mextract\u001b[39m(\n\u001b[32m    607\u001b[39m     \u001b[38;5;28mself\u001b[39m, files: Union[FileInput, List[FileInput]]\n\u001b[32m    608\u001b[39m ) -> Union[ExtractRun, List[ExtractRun]]:\n\u001b[32m    609\u001b[39m \u001b[38;5;250m    \u001b[39m\u001b[33;03m\"\"\"Synchronously extract data from one or more files using this agent.\u001b[39;00m\n\u001b[32m    610\u001b[39m \n\u001b[32m    611\u001b[39m \u001b[33;03m    Args:\u001b[39;00m\n\u001b[32m   (...)\u001b[39m\u001b[32m    615\u001b[39m \u001b[33;03m        Union[ExtractRun, List[ExtractRun]]: The extraction results\u001b[39;00m\n\u001b[32m    616\u001b[39m \u001b[33;03m    \"\"\"\u001b[39;00m\n\u001b[32m--> \u001b[39m\u001b[32m617\u001b[39m     \u001b[38;5;28;01mreturn\u001b[39;00m \u001b[38;5;28;43mself\u001b[39;49m\u001b[43m.\u001b[49m\u001b[43m_run_in_thread\u001b[49m\u001b[43m(\u001b[49m\u001b[38;5;28;43mself\u001b[39;49m\u001b[43m.\u001b[49m\u001b[43maextract\u001b[49m\u001b[43m(\u001b[49m\u001b[43mfiles\u001b[49m\u001b[43m)\u001b[49m\u001b[43m)\u001b[49m\n",
            "\u001b[36mFile \u001b[39m\u001b[32mc:\\Users\\danse\\Projects\\FleetAI V1\\fleet-ai\\apps\\backend\\.venv\\Lib\\site-packages\\llama_cloud_services\\extract\\extract.py:356\u001b[39m, in \u001b[36mExtractionAgent._run_in_thread\u001b[39m\u001b[34m(self, coro)\u001b[39m\n\u001b[32m    354\u001b[39m \u001b[38;5;28;01mdef\u001b[39;00m\u001b[38;5;250m \u001b[39m\u001b[34m_run_in_thread\u001b[39m(\u001b[38;5;28mself\u001b[39m, coro: Coroutine[Any, Any, T]) -> T:\n\u001b[32m    355\u001b[39m \u001b[38;5;250m    \u001b[39m\u001b[33;03m\"\"\"Run coroutine in a separate thread to avoid event loop issues\"\"\"\u001b[39;00m\n\u001b[32m--> \u001b[39m\u001b[32m356\u001b[39m     \u001b[38;5;28;01mreturn\u001b[39;00m \u001b[43mrun_in_thread\u001b[49m\u001b[43m(\u001b[49m\n\u001b[32m    357\u001b[39m \u001b[43m        \u001b[49m\u001b[43mcoro\u001b[49m\u001b[43m,\u001b[49m\n\u001b[32m    358\u001b[39m \u001b[43m        \u001b[49m\u001b[38;5;28;43mself\u001b[39;49m\u001b[43m.\u001b[49m\u001b[43m_thread_pool\u001b[49m\u001b[43m,\u001b[49m\n\u001b[32m    359\u001b[39m \u001b[43m        \u001b[49m\u001b[38;5;28;43mself\u001b[39;49m\u001b[43m.\u001b[49m\u001b[43mverify\u001b[49m\u001b[43m,\u001b[49m\u001b[43m  \u001b[49m\u001b[38;5;66;43;03m# type: ignore\u001b[39;49;00m\n\u001b[32m    360\u001b[39m \u001b[43m        \u001b[49m\u001b[38;5;28;43mself\u001b[39;49m\u001b[43m.\u001b[49m\u001b[43mhttpx_timeout\u001b[49m\u001b[43m,\u001b[49m\u001b[43m  \u001b[49m\u001b[38;5;66;43;03m# type: ignore\u001b[39;49;00m\n\u001b[32m    361\u001b[39m \u001b[43m        \u001b[49m\u001b[38;5;28;43mself\u001b[39;49m\u001b[43m.\u001b[49m\u001b[43m_client\u001b[49m\u001b[43m.\u001b[49m\u001b[43m_client_wrapper\u001b[49m\u001b[43m,\u001b[49m\n\u001b[32m    362\u001b[39m \u001b[43m    \u001b[49m\u001b[43m)\u001b[49m\n",
            "\u001b[36mFile \u001b[39m\u001b[32mc:\\Users\\danse\\Projects\\FleetAI V1\\fleet-ai\\apps\\backend\\.venv\\Lib\\site-packages\\llama_cloud_services\\extract\\extract.py:264\u001b[39m, in \u001b[36mrun_in_thread\u001b[39m\u001b[34m(coro, thread_pool, verify, httpx_timeout, client_wrapper)\u001b[39m\n\u001b[32m    261\u001b[39m     \u001b[38;5;28;01mexcept\u001b[39;00m httpx.NetworkError \u001b[38;5;28;01mas\u001b[39;00m e:\n\u001b[32m    262\u001b[39m         \u001b[38;5;28;01mraise\u001b[39;00m \u001b[38;5;167;01mConnectionError\u001b[39;00m(\u001b[33mf\u001b[39m\u001b[33m\"\u001b[39m\u001b[33mNetwork error: \u001b[39m\u001b[38;5;132;01m{\u001b[39;00m\u001b[38;5;28mstr\u001b[39m(e)\u001b[38;5;132;01m}\u001b[39;00m\u001b[33m\"\u001b[39m) \u001b[38;5;28;01mfrom\u001b[39;00m\u001b[38;5;250m \u001b[39m\u001b[34;01me\u001b[39;00m\n\u001b[32m--> \u001b[39m\u001b[32m264\u001b[39m \u001b[38;5;28;01mreturn\u001b[39;00m \u001b[43mthread_pool\u001b[49m\u001b[43m.\u001b[49m\u001b[43msubmit\u001b[49m\u001b[43m(\u001b[49m\u001b[43mrun_coro\u001b[49m\u001b[43m)\u001b[49m\u001b[43m.\u001b[49m\u001b[43mresult\u001b[49m\u001b[43m(\u001b[49m\u001b[43m)\u001b[49m\n",
            "\u001b[36mFile \u001b[39m\u001b[32m~\\AppData\\Local\\Programs\\Python\\Python313\\Lib\\concurrent\\futures\\_base.py:451\u001b[39m, in \u001b[36mFuture.result\u001b[39m\u001b[34m(self, timeout)\u001b[39m\n\u001b[32m    448\u001b[39m \u001b[38;5;28;01melif\u001b[39;00m \u001b[38;5;28mself\u001b[39m._state == FINISHED:\n\u001b[32m    449\u001b[39m     \u001b[38;5;28;01mreturn\u001b[39;00m \u001b[38;5;28mself\u001b[39m.__get_result()\n\u001b[32m--> \u001b[39m\u001b[32m451\u001b[39m \u001b[38;5;28;43mself\u001b[39;49m\u001b[43m.\u001b[49m\u001b[43m_condition\u001b[49m\u001b[43m.\u001b[49m\u001b[43mwait\u001b[49m\u001b[43m(\u001b[49m\u001b[43mtimeout\u001b[49m\u001b[43m)\u001b[49m\n\u001b[32m    453\u001b[39m \u001b[38;5;28;01mif\u001b[39;00m \u001b[38;5;28mself\u001b[39m._state \u001b[38;5;129;01min\u001b[39;00m [CANCELLED, CANCELLED_AND_NOTIFIED]:\n\u001b[32m    454\u001b[39m     \u001b[38;5;28;01mraise\u001b[39;00m CancelledError()\n",
            "\u001b[36mFile \u001b[39m\u001b[32m~\\AppData\\Local\\Programs\\Python\\Python313\\Lib\\threading.py:359\u001b[39m, in \u001b[36mCondition.wait\u001b[39m\u001b[34m(self, timeout)\u001b[39m\n\u001b[32m    357\u001b[39m \u001b[38;5;28;01mtry\u001b[39;00m:    \u001b[38;5;66;03m# restore state no matter what (e.g., KeyboardInterrupt)\u001b[39;00m\n\u001b[32m    358\u001b[39m     \u001b[38;5;28;01mif\u001b[39;00m timeout \u001b[38;5;129;01mis\u001b[39;00m \u001b[38;5;28;01mNone\u001b[39;00m:\n\u001b[32m--> \u001b[39m\u001b[32m359\u001b[39m         \u001b[43mwaiter\u001b[49m\u001b[43m.\u001b[49m\u001b[43macquire\u001b[49m\u001b[43m(\u001b[49m\u001b[43m)\u001b[49m\n\u001b[32m    360\u001b[39m         gotit = \u001b[38;5;28;01mTrue\u001b[39;00m\n\u001b[32m    361\u001b[39m     \u001b[38;5;28;01melse\u001b[39;00m:\n",
            "\u001b[31mKeyboardInterrupt\u001b[39m: "
          ]
        }
      ],
      "source": [
        "# Simple approach - just like the API does it\n",
        "if test_file_path.exists():\n",
        "    try:\n",
        "        # Import what we need\n",
        "        from fastapi import UploadFile\n",
        "        from app.features.fuel.extractor import extract_fuel_bid\n",
        "                \n",
        "        # Read the PDF file\n",
        "        with open(test_file_path, 'rb') as f:\n",
        "            file_content = f.read()\n",
        "        \n",
        "        # Create UploadFile object (like FastAPI does)\n",
        "        upload_file = UploadFile(\n",
        "            filename=\"BP Athens Bid Submission.pdf\",\n",
        "            file=BytesIO(file_content),\n",
        "            size=len(file_content),\n",
        "            headers={\"content-type\": \"application/pdf\"}\n",
        "        )\n",
        "                \n",
        "        # Call the extractor (same as API route)\n",
        "        result = extract_fuel_bid(upload_file)\n",
        "                \n",
        "    except Exception as e:\n",
        "        print(f\"❌ Error: {str(e)}\")\n",
        "        traceback.print_exc()\n",
        "else:\n",
        "    print(\"❌ Cannot run test - PDF file not found\")\n"
      ]
    },
    {
      "cell_type": "markdown",
      "metadata": {},
      "source": [
        "## Helper Functions\n"
      ]
    },
    {
      "cell_type": "code",
      "execution_count": 43,
      "metadata": {},
      "outputs": [
        {
          "name": "stdout",
          "output_type": "stream",
          "text": [
            "✅ Helper functions defined successfully\n"
          ]
        }
      ],
      "source": [
        "def create_upload_file(file_path: str) -> UploadFile:\n",
        "    \"\"\"\n",
        "    Create an UploadFile object from a local file path.\n",
        "    \n",
        "    Args:\n",
        "        file_path (str): Path to the file to upload\n",
        "        \n",
        "    Returns:\n",
        "        UploadFile: FastAPI UploadFile object\n",
        "    \"\"\"\n",
        "    if not os.path.exists(file_path):\n",
        "        raise FileNotFoundError(f\"File not found: {file_path}\")\n",
        "    \n",
        "    # Read file content\n",
        "    with open(file_path, 'rb') as f:\n",
        "        file_content = f.read()\n",
        "    \n",
        "    # Determine content type based on extension\n",
        "    file_extension = Path(file_path).suffix.lower()\n",
        "    content_type_mapping = {\n",
        "        '.pdf': 'application/pdf',\n",
        "        '.docx': 'application/vnd.openxmlformats-officedocument.wordprocessingml.document',\n",
        "        '.doc': 'application/msword',\n",
        "        '.txt': 'text/plain'\n",
        "    }\n",
        "    content_type = content_type_mapping.get(file_extension, 'application/octet-stream')\n",
        "    \n",
        "    # Create UploadFile object\n",
        "    upload_file = UploadFile(\n",
        "        filename=os.path.basename(file_path),\n",
        "        file=BytesIO(file_content),\n",
        "        size=len(file_content),\n",
        "        headers={\"content-type\": content_type}\n",
        "    )\n",
        "    \n",
        "    print(f\"📄 Created UploadFile: {upload_file.filename} ({content_type}, {len(file_content)} bytes)\")\n",
        "    return upload_file\n",
        "\n",
        "\n",
        "def save_extraction_result(result, output_file: str = \"fuel_bid_extraction_result.json\"):\n",
        "    \"\"\"\n",
        "    Save extraction result to a JSON file with proper serialization.\n",
        "    \n",
        "    Args:\n",
        "        result: The extraction result from the fuel bid extractor\n",
        "        output_file (str): Output filename\n",
        "    \"\"\"\n",
        "    try:\n",
        "        # Extract data from result\n",
        "        if hasattr(result, 'data'):\n",
        "            result_data = result.data\n",
        "        else:\n",
        "            result_data = result\n",
        "        \n",
        "        # Convert to dict for JSON serialization\n",
        "        if hasattr(result_data, 'dict'):\n",
        "            # Pydantic model\n",
        "            json_data = result_data.dict()\n",
        "        elif hasattr(result_data, 'model_dump'):\n",
        "            # Pydantic v2 model\n",
        "            json_data = result_data.model_dump()\n",
        "        elif hasattr(result_data, '__dict__'):\n",
        "            # Regular object\n",
        "            json_data = result_data.__dict__\n",
        "        else:\n",
        "            # Already a dict or primitive\n",
        "            json_data = result_data\n",
        "        \n",
        "        # Add metadata\n",
        "        output_data = {\n",
        "            \"extraction_timestamp\": datetime.now().isoformat(),\n",
        "            \"result_type\": str(type(result_data)),\n",
        "            \"data\": json_data\n",
        "        }\n",
        "        \n",
        "        # Save to file\n",
        "        output_path = Path.cwd() / output_file\n",
        "        with open(output_path, 'w', encoding='utf-8') as f:\n",
        "            json.dump(output_data, f, indent=2, default=str, ensure_ascii=False)\n",
        "        \n",
        "        print(f\"💾 Extraction result saved to: {output_path}\")\n",
        "        return output_path\n",
        "        \n",
        "    except Exception as e:\n",
        "        print(f\"⚠️ Could not save result to JSON: {e}\")\n",
        "        # Fallback: save as string representation\n",
        "        try:\n",
        "            fallback_path = Path.cwd() / f\"{output_file}.txt\"\n",
        "            with open(fallback_path, 'w', encoding='utf-8') as f:\n",
        "                f.write(f\"Extraction Result ({datetime.now().isoformat()})\\n\")\n",
        "                f.write(\"=\" * 50 + \"\\n\")\n",
        "                f.write(str(result))\n",
        "            print(f\"💾 Result saved as text to: {fallback_path}\")\n",
        "            return fallback_path\n",
        "        except Exception as e2:\n",
        "            print(f\"❌ Failed to save result: {e2}\")\n",
        "            return None\n",
        "\n",
        "print(\"✅ Helper functions defined successfully\")\n"
      ]
    },
    {
      "cell_type": "code",
      "execution_count": 44,
      "metadata": {},
      "outputs": [
        {
          "name": "stdout",
          "output_type": "stream",
          "text": [
            "✅ Display function defined successfully\n"
          ]
        }
      ],
      "source": [
        "def display_extraction_summary(result):\n",
        "    \"\"\"\n",
        "    Display a formatted summary of the extraction results.\n",
        "    \n",
        "    Args:\n",
        "        result: The extraction result from the fuel bid extractor\n",
        "    \"\"\"\n",
        "    print(\"\\n\" + \"=\" * 60)\n",
        "    print(\"📊 FUEL BID EXTRACTION SUMMARY\")\n",
        "    print(\"=\" * 60)\n",
        "    \n",
        "    try:\n",
        "        # Extract the data\n",
        "        if hasattr(result, 'data'):\n",
        "            data = result.data\n",
        "        else:\n",
        "            data = result\n",
        "        \n",
        "        print(f\"📋 Result type: {type(data)}\")\n",
        "        \n",
        "        # Convert to dict for easier access\n",
        "        if hasattr(data, 'dict'):\n",
        "            data_dict = data.dict()\n",
        "        elif hasattr(data, 'model_dump'):\n",
        "            data_dict = data.model_dump()\n",
        "        elif hasattr(data, '__dict__'):\n",
        "            data_dict = data.__dict__\n",
        "        elif isinstance(data, dict):\n",
        "            data_dict = data\n",
        "        else:\n",
        "            print(f\"⚠️ Unable to extract data dictionary from: {type(data)}\")\n",
        "            return\n",
        "        \n",
        "        # Display key information\n",
        "        print(f\"\\n🏢 VENDOR INFORMATION:\")\n",
        "        vendor_info = data_dict.get('vendor', {})\n",
        "        if isinstance(vendor_info, dict):\n",
        "            print(f\"   Company: {vendor_info.get('name', 'N/A')}\")\n",
        "            print(f\"   Contact: {vendor_info.get('contact_name', 'N/A')}\")\n",
        "            print(f\"   Email: {vendor_info.get('contact_email', 'N/A')}\")\n",
        "            print(f\"   Phone: {vendor_info.get('contact_phone', 'N/A')}\")\n",
        "        else:\n",
        "            print(f\"   {vendor_info}\")\n",
        "        \n",
        "        print(f\"\\n📝 BID DETAILS:\")\n",
        "        print(f\"   Title: {data_dict.get('title', 'N/A')}\")\n",
        "        print(f\"   Fuel Type: {data_dict.get('fuel_type', 'N/A')}\")\n",
        "        print(f\"   Price Type: {data_dict.get('price_type', 'N/A')}\")\n",
        "        print(f\"   Currency: {data_dict.get('currency', 'N/A')}\")\n",
        "        print(f\"   Unit of Measure: {data_dict.get('uom', 'N/A')}\")\n",
        "        \n",
        "        print(f\"\\n💰 PRICING:\")\n",
        "        base_price = data_dict.get('base_unit_price')\n",
        "        if base_price is not None:\n",
        "            currency = data_dict.get('currency', '')\n",
        "            uom = data_dict.get('uom', '')\n",
        "            print(f\"   Base Unit Price: {base_price} {currency}/{uom}\")\n",
        "        \n",
        "        # Index-based pricing\n",
        "        index_name = data_dict.get('index_name')\n",
        "        if index_name:\n",
        "            print(f\"   Index: {index_name}\")\n",
        "            print(f\"   Index Location: {data_dict.get('index_location', 'N/A')}\")\n",
        "            differential = data_dict.get('differential')\n",
        "            if differential is not None:\n",
        "                print(f\"   Differential: {differential} {data_dict.get('differential_unit', '')}\")\n",
        "        \n",
        "        # Fees\n",
        "        into_plane_fee = data_dict.get('into_plane_fee')\n",
        "        handling_fee = data_dict.get('handling_fee')\n",
        "        if into_plane_fee or handling_fee:\n",
        "            print(f\"\\n💳 FEES:\")\n",
        "            if into_plane_fee:\n",
        "                print(f\"   Into-plane Fee: {into_plane_fee}\")\n",
        "            if handling_fee:\n",
        "                print(f\"   Handling Fee: {handling_fee}\")\n",
        "        \n",
        "        print(f\"\\n📅 VALIDITY:\")\n",
        "        print(f\"   Start Date: {data_dict.get('validity_start_date', 'N/A')}\")\n",
        "        print(f\"   End Date: {data_dict.get('validity_end_date', 'N/A')}\")\n",
        "        print(f\"   Payment Terms: {data_dict.get('payment_terms', 'N/A')}\")\n",
        "        \n",
        "        # AI Summary\n",
        "        ai_summary = data_dict.get('ai_summary')\n",
        "        if ai_summary:\n",
        "            print(f\"\\n🤖 AI SUMMARY:\")\n",
        "            print(f\"   {ai_summary}\")\n",
        "        \n",
        "        # Show all extracted fields\n",
        "        print(f\"\\n🔍 ALL EXTRACTED FIELDS:\")\n",
        "        for key, value in data_dict.items():\n",
        "            if value is not None and value != '':\n",
        "                if isinstance(value, dict):\n",
        "                    print(f\"   {key}: [Object with {len(value)} fields]\")\n",
        "                else:\n",
        "                    # Truncate long values\n",
        "                    value_str = str(value)\n",
        "                    if len(value_str) > 100:\n",
        "                        value_str = value_str[:97] + \"...\"\n",
        "                    print(f\"   {key}: {value_str}\")\n",
        "        \n",
        "    except Exception as e:\n",
        "        print(f\"❌ Error displaying summary: {e}\")\n",
        "        traceback.print_exc()\n",
        "    \n",
        "    print(\"=\" * 60)\n",
        "\n",
        "print(\"✅ Display function defined successfully\")\n"
      ]
    },
    {
      "cell_type": "markdown",
      "metadata": {},
      "source": [
        "# Display Result"
      ]
    },
    {
      "cell_type": "code",
      "execution_count": 58,
      "metadata": {},
      "outputs": [
        {
          "name": "stdout",
          "output_type": "stream",
          "text": [
            "\n",
            "============================================================\n",
            "📊 FUEL BID EXTRACTION SUMMARY\n",
            "============================================================\n",
            "📋 Result type: <class 'dict'>\n",
            "\n",
            "🏢 VENDOR INFORMATION:\n",
            "   Company: BP Aviation\n",
            "   Contact: None\n",
            "   Email: aviation.sales@bp.com\n",
            "   Phone: +44 20 0000 0000\n",
            "\n",
            "📝 BID DETAILS:\n",
            "   Title: Fuel Supply Proposal – Athens International Airport (ATH)\n",
            "   Fuel Type: Jet A-1\n",
            "   Price Type: fixed\n",
            "   Currency: USD\n",
            "   Unit of Measure: USG\n",
            "\n",
            "💰 PRICING:\n",
            "   Base Unit Price: 3.185 USD/USG\n",
            "\n",
            "💳 FEES:\n",
            "   Into-plane Fee: 0.035\n",
            "   Handling Fee: 0.005\n",
            "\n",
            "📅 VALIDITY:\n",
            "   Start Date: 2025-08-15\n",
            "   End Date: 2025-09-30\n",
            "   Payment Terms: Net 30 days from invoice date\n",
            "\n",
            "🤖 AI SUMMARY:\n",
            "   BP Aviation offers a fixed price of USD 3.185 per USG for Jet A-1 fuel at Athens International Airport, valid from 15 August to 30 September 2025. Into-plane and handling fees are USD 0.035 and USD 0.005 per USG, respectively, with taxes and airport fees excluded. Payment terms are net 30 days from invoice date, and there is no take-or-pay for Year 1. The fuel meets ASTM D1655 and DEF STAN 91-91 standards, and a certificate of analysis is provided per delivery.\n",
            "\n",
            "🔍 ALL EXTRACTED FIELDS:\n",
            "   vendor: [Object with 5 fields]\n",
            "   title: Fuel Supply Proposal – Athens International Airport (ATH)\n",
            "   supplier_comments: Prices exclude any applicable VAT or excise. SAF options can be discussed in subsequent rounds if...\n",
            "   bid_submitted_at: 2025-08-15\n",
            "   ai_summary: BP Aviation offers a fixed price of USD 3.185 per USG for Jet A-1 fuel at Athens International Ai...\n",
            "   price_type: fixed\n",
            "   uom: USG\n",
            "   currency: USD\n",
            "   payment_terms: Net 30 days from invoice date\n",
            "   base_unit_price: 3.185\n",
            "   into_plane_fee: 0.035\n",
            "   handling_fee: 0.005\n",
            "   includes_taxes: False\n",
            "   includes_airport_fees: False\n",
            "   fuel_type: Jet A-1\n",
            "   validity_start_date: 2025-08-15\n",
            "   validity_end_date: 2025-09-30\n",
            "============================================================\n"
          ]
        }
      ],
      "source": [
        "display_extraction_summary(result)"
      ]
    }
  ],
  "metadata": {
    "kernelspec": {
      "display_name": ".venv",
      "language": "python",
      "name": "python3"
    },
    "language_info": {
      "codemirror_mode": {
        "name": "ipython",
        "version": 3
      },
      "file_extension": ".py",
      "mimetype": "text/x-python",
      "name": "python",
      "nbconvert_exporter": "python",
      "pygments_lexer": "ipython3",
      "version": "3.13.7"
    }
  },
  "nbformat": 4,
  "nbformat_minor": 2
}
