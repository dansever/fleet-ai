{
 "cells": [
  {
   "cell_type": "code",
   "execution_count": 3,
   "id": "cae1bee1",
   "metadata": {},
   "outputs": [
    {
     "ename": "ModuleNotFoundError",
     "evalue": "No module named 'app'",
     "output_type": "error",
     "traceback": [
      "\u001b[31m---------------------------------------------------------------------------\u001b[39m",
      "\u001b[31mModuleNotFoundError\u001b[39m                       Traceback (most recent call last)",
      "\u001b[36mCell\u001b[39m\u001b[36m \u001b[39m\u001b[32mIn[3]\u001b[39m\u001b[32m, line 1\u001b[39m\n\u001b[32m----> \u001b[39m\u001b[32m1\u001b[39m \u001b[38;5;28;01mfrom\u001b[39;00m\u001b[38;5;250m \u001b[39m\u001b[34;01mapp\u001b[39;00m\u001b[34;01m.\u001b[39;00m\u001b[34;01mservices\u001b[39;00m\u001b[34;01m.\u001b[39;00m\u001b[34;01mai_service_manager\u001b[39;00m\u001b[38;5;250m \u001b[39m\u001b[38;5;28;01mimport\u001b[39;00m get_ai_service_manager\n\u001b[32m      3\u001b[39m ai_manager = get_ai_service_manager()\n\u001b[32m      5\u001b[39m \u001b[38;5;66;03m# Extract document data\u001b[39;00m\n\u001b[32m      6\u001b[39m \u001b[38;5;66;03m# result = await ai_manager.extract_document(\"fuel_bid\", content)\u001b[39;00m\n\u001b[32m      7\u001b[39m \n\u001b[32m   (...)\u001b[39m\u001b[32m     10\u001b[39m \n\u001b[32m     11\u001b[39m \u001b[38;5;66;03m# Analyze quotes\u001b[39;00m\n",
      "\u001b[31mModuleNotFoundError\u001b[39m: No module named 'app'"
     ]
    }
   ],
   "source": [
    "from app.services.ai_service_manager import get_ai_service_manager\n",
    "\n",
    "ai_manager = get_ai_service_manager()\n",
    "\n",
    "# Extract document data\n",
    "# result = await ai_manager.extract_document(\"fuel_bid\", content)\n",
    "\n",
    "# Analyze vendor\n",
    "# result = await ai_manager.analyze_vendor(\"vendor_123\")\n",
    "\n",
    "# Analyze quotes\n",
    "result = await ai_manager.analyze_quotes_for_rfq(\"5f2f836c-aaee-4281-b7b5-718b71a33f0c\")"
   ]
  }
 ],
 "metadata": {
  "kernelspec": {
   "display_name": ".venv",
   "language": "python",
   "name": "python3"
  },
  "language_info": {
   "codemirror_mode": {
    "name": "ipython",
    "version": 3
   },
   "file_extension": ".py",
   "mimetype": "text/x-python",
   "name": "python",
   "nbconvert_exporter": "python",
   "pygments_lexer": "ipython3",
   "version": "3.13.7"
  }
 },
 "nbformat": 4,
 "nbformat_minor": 5
}
