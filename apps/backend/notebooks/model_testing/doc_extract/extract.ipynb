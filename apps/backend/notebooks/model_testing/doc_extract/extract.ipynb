{
 "cells": [
  {
   "cell_type": "code",
   "execution_count": 26,
   "id": "24d8a440",
   "metadata": {},
   "outputs": [
    {
     "name": "stdout",
     "output_type": "stream",
     "text": [
      "c:\\Users\\danse\\Projects\\FleetAI V1\\fleet-ai\\apps\\backend\\notebooks\\model_testing\\doc_extract\\BP Athens Bid Submission.pdf\n"
     ]
    }
   ],
   "source": [
    "import os\n",
    "# Path to the file\n",
    "file_path = os.path.join(os.getcwd(), \"BP Athens Bid Submission.pdf\")\n",
    "print(file_path)"
   ]
  },
  {
   "cell_type": "code",
   "execution_count": null,
   "id": "c0a7f3b8",
   "metadata": {},
   "outputs": [],
   "source": [
    "from app.services import process_document_extraction\n",
    "\n",
    "\n",
    "# Open the PDF file in binary mode and process it\n",
    "with open(file_path, \"rb\") as f:\n",
    "    result = process_document_extraction(f)\n",
    "\n",
    "print(result)\n"
   ]
  }
 ],
 "metadata": {
  "kernelspec": {
   "display_name": ".venv",
   "language": "python",
   "name": "python3"
  },
  "language_info": {
   "codemirror_mode": {
    "name": "ipython",
    "version": 3
   },
   "file_extension": ".py",
   "mimetype": "text/x-python",
   "name": "python",
   "nbconvert_exporter": "python",
   "pygments_lexer": "ipython3",
   "version": "3.13.7"
  }
 },
 "nbformat": 4,
 "nbformat_minor": 5
}
