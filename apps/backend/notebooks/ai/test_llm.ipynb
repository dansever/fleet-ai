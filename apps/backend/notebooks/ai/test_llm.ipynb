{
 "cells": [
  {
   "cell_type": "code",
   "execution_count": 46,
   "id": "314f06be",
   "metadata": {},
   "outputs": [
    {
     "name": "stdout",
     "output_type": "stream",
     "text": [
      "Using BACKEND_ROOT: C:\\Users\\danse\\Projects\\FleetAI V1\\fleet-ai\\apps\\backend\n"
     ]
    }
   ],
   "source": [
    "from get_app_path import setup_backend_path\n",
    "\n",
    "BACKEND_ROOT = setup_backend_path()\n",
    "print(\"Using BACKEND_ROOT:\", BACKEND_ROOT)\n",
    "\n",
    "from app.db.session import AsyncSessionLocal\n",
    "from app.db.operations.airports import get_airports_by_org"
   ]
  },
  {
   "cell_type": "code",
   "execution_count": 48,
   "id": "f8804f3c",
   "metadata": {},
   "outputs": [
    {
     "ename": "ImportError",
     "evalue": "cannot import name 'get_clerk_microsoft_access_token' from 'app.services.clerk_service' (C:\\Users\\danse\\Projects\\FleetAI V1\\fleet-ai\\apps\\backend\\app\\services\\clerk_service.py)",
     "output_type": "error",
     "traceback": [
      "\u001b[31m---------------------------------------------------------------------------\u001b[39m",
      "\u001b[31mImportError\u001b[39m                               Traceback (most recent call last)",
      "\u001b[36mCell\u001b[39m\u001b[36m \u001b[39m\u001b[32mIn[48]\u001b[39m\u001b[32m, line 1\u001b[39m\n\u001b[32m----> \u001b[39m\u001b[32m1\u001b[39m \u001b[38;5;28;01mfrom\u001b[39;00m\u001b[38;5;250m \u001b[39m\u001b[34;01mapp\u001b[39;00m\u001b[34;01m.\u001b[39;00m\u001b[34;01mservices\u001b[39;00m\u001b[34;01m.\u001b[39;00m\u001b[34;01mclerk_service\u001b[39;00m\u001b[38;5;250m \u001b[39m\u001b[38;5;28;01mimport\u001b[39;00m get_clerk_microsoft_access_token\n\u001b[32m      3\u001b[39m user_id = \u001b[33m\"\u001b[39m\u001b[33muser_30TWl2vprVQuUWn4fE4l0YgyaWx\u001b[39m\u001b[33m\"\u001b[39m\n\u001b[32m      4\u001b[39m msft_access_token = get_clerk_microsoft_access_token(user_id)\n",
      "\u001b[31mImportError\u001b[39m: cannot import name 'get_clerk_microsoft_access_token' from 'app.services.clerk_service' (C:\\Users\\danse\\Projects\\FleetAI V1\\fleet-ai\\apps\\backend\\app\\services\\clerk_service.py)"
     ]
    }
   ],
   "source": [
    "from app.services.clerk_service import get_clerk_microsoft_access_token\n",
    "\n",
    "user_id = \"user_30TWl2vprVQuUWn4fE4l0YgyaWx\"\n",
    "msft_access_token = get_clerk_microsoft_access_token(user_id)"
   ]
  },
  {
   "cell_type": "code",
   "execution_count": null,
   "id": "c3322f9e",
   "metadata": {},
   "outputs": [
    {
     "ename": "ImportError",
     "evalue": "cannot import name 'ClerkService' from 'app.services.clerk_service' (C:\\Users\\danse\\Projects\\FleetAI V1\\fleet-ai\\apps\\backend\\app\\services\\clerk_service.py)",
     "output_type": "error",
     "traceback": [
      "\u001b[31m---------------------------------------------------------------------------\u001b[39m",
      "\u001b[31mImportError\u001b[39m                               Traceback (most recent call last)",
      "\u001b[36mCell\u001b[39m\u001b[36m \u001b[39m\u001b[32mIn[29]\u001b[39m\u001b[32m, line 1\u001b[39m\n\u001b[32m----> \u001b[39m\u001b[32m1\u001b[39m \u001b[38;5;28;01mfrom\u001b[39;00m\u001b[38;5;250m \u001b[39m\u001b[34;01mapp\u001b[39;00m\u001b[34;01m.\u001b[39;00m\u001b[34;01mservices\u001b[39;00m\u001b[38;5;250m \u001b[39m\u001b[38;5;28;01mimport\u001b[39;00m get_clerk_session\n",
      "\u001b[36mFile \u001b[39m\u001b[32m~\\Projects\\FleetAI V1\\fleet-ai\\apps\\backend\\app\\services\\__init__.py:6\u001b[39m\n\u001b[32m      1\u001b[39m \u001b[33;03m\"\"\"\u001b[39;00m\n\u001b[32m      2\u001b[39m \u001b[33;03mServices module for FleetAI backend.\u001b[39;00m\n\u001b[32m      3\u001b[39m \u001b[33;03mProvides business logic services for various application features.\u001b[39;00m\n\u001b[32m      4\u001b[39m \u001b[33;03m\"\"\"\u001b[39;00m\n\u001b[32m----> \u001b[39m\u001b[32m6\u001b[39m \u001b[38;5;28;01mfrom\u001b[39;00m\u001b[38;5;250m \u001b[39m\u001b[34;01m.\u001b[39;00m\u001b[34;01mclerk_service\u001b[39;00m\u001b[38;5;250m \u001b[39m\u001b[38;5;28;01mimport\u001b[39;00m ClerkService\n\u001b[32m      8\u001b[39m __all__ = [\n\u001b[32m      9\u001b[39m     \u001b[33m\"\u001b[39m\u001b[33mget_clerk_session\u001b[39m\u001b[33m\"\u001b[39m, \n\u001b[32m     10\u001b[39m     ]\n",
      "\u001b[31mImportError\u001b[39m: cannot import name 'ClerkService' from 'app.services.clerk_service' (C:\\Users\\danse\\Projects\\FleetAI V1\\fleet-ai\\apps\\backend\\app\\services\\clerk_service.py)"
     ]
    }
   ],
   "source": []
  }
 ],
 "metadata": {
  "kernelspec": {
   "display_name": ".venv",
   "language": "python",
   "name": "python3"
  },
  "language_info": {
   "codemirror_mode": {
    "name": "ipython",
    "version": 3
   },
   "file_extension": ".py",
   "mimetype": "text/x-python",
   "name": "python",
   "nbconvert_exporter": "python",
   "pygments_lexer": "ipython3",
   "version": "3.13.7"
  }
 },
 "nbformat": 4,
 "nbformat_minor": 5
}
