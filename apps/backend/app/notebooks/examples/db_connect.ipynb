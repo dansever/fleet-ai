{
 "cells": [
  {
   "cell_type": "markdown",
   "id": "40910410",
   "metadata": {},
   "source": [
    "### Setup & Imports"
   ]
  },
  {
   "cell_type": "markdown",
   "id": "e7f4a2bb",
   "metadata": {},
   "source": [
    "Initialize Current Path"
   ]
  },
  {
   "cell_type": "code",
   "execution_count": 1,
   "id": "181ac496",
   "metadata": {},
   "outputs": [],
   "source": [
    "import sys\n",
    "import os\n",
    "\n",
    "# Check if we're in a Jupyter notebook\n",
    "if '__file__' in globals():\n",
    "    # Running as a script\n",
    "    sys.path.insert(0, os.path.dirname(os.path.dirname(os.path.dirname(os.path.abspath(__file__)))))\n",
    "else:\n",
    "    # Running in Jupyter notebook\n",
    "    current_dir = os.getcwd()\n",
    "    backend_dir = os.path.join(current_dir, '..', '..')\n",
    "    sys.path.insert(0, os.path.abspath(backend_dir))"
   ]
  },
  {
   "cell_type": "markdown",
   "id": "9761fa69",
   "metadata": {},
   "source": [
    "Imports"
   ]
  },
  {
   "cell_type": "code",
   "execution_count": 2,
   "id": "37e022ed",
   "metadata": {},
   "outputs": [
    {
     "ename": "ModuleNotFoundError",
     "evalue": "No module named 'app'",
     "output_type": "error",
     "traceback": [
      "\u001b[31m---------------------------------------------------------------------------\u001b[39m",
      "\u001b[31mModuleNotFoundError\u001b[39m                       Traceback (most recent call last)",
      "\u001b[36mCell\u001b[39m\u001b[36m \u001b[39m\u001b[32mIn[2]\u001b[39m\u001b[32m, line 10\u001b[39m\n\u001b[32m      7\u001b[39m backend_dir = os.path.join(current_dir, \u001b[33m'\u001b[39m\u001b[33m..\u001b[39m\u001b[33m'\u001b[39m, \u001b[33m'\u001b[39m\u001b[33m..\u001b[39m\u001b[33m'\u001b[39m)\n\u001b[32m      8\u001b[39m sys.path.insert(\u001b[32m0\u001b[39m, os.path.abspath(backend_dir))\n\u001b[32m---> \u001b[39m\u001b[32m10\u001b[39m \u001b[38;5;28;01mfrom\u001b[39;00m\u001b[38;5;250m \u001b[39m\u001b[34;01mapp\u001b[39;00m\u001b[34;01m.\u001b[39;00m\u001b[34;01mdb\u001b[39;00m\u001b[38;5;250m \u001b[39m\u001b[38;5;28;01mimport\u001b[39;00m get_db, get_airports_by_org, get_quotes_by_rfq_id, get_user_by_id\n\u001b[32m     11\u001b[39m \u001b[38;5;28;01mfrom\u001b[39;00m\u001b[38;5;250m \u001b[39m\u001b[34;01mapp\u001b[39;00m\u001b[34;01m.\u001b[39;00m\u001b[34;01mdb\u001b[39;00m\u001b[34;01m.\u001b[39;00m\u001b[34;01mmodels_auto\u001b[39;00m\u001b[38;5;250m \u001b[39m\u001b[38;5;28;01mimport\u001b[39;00m Airports, Quotes, Users\n",
      "\u001b[31mModuleNotFoundError\u001b[39m: No module named 'app'"
     ]
    }
   ],
   "source": [
    "import sys\n",
    "import os\n",
    "import asyncio\n",
    "\n",
    "# Add the backend directory to Python path\n",
    "current_dir = os.getcwd()\n",
    "backend_dir = os.path.join(current_dir, '..', '..')\n",
    "sys.path.insert(0, os.path.abspath(backend_dir))\n",
    "\n",
    "from app.db import get_db, get_airports_by_org, get_quotes_by_rfq_id, get_user_by_id\n",
    "from app.db.models_auto import Airports, Quotes, Users"
   ]
  },
  {
   "cell_type": "markdown",
   "id": "8a3d87c6",
   "metadata": {},
   "source": [
    "### Test Airport Operations"
   ]
  },
  {
   "cell_type": "code",
   "execution_count": null,
   "id": "a74c68f7",
   "metadata": {},
   "outputs": [
    {
     "name": "stdout",
     "output_type": "stream",
     "text": [
      "=== Testing Airport Operations ===\n",
      "2025-08-28 10:10:57,345 INFO sqlalchemy.engine.Engine BEGIN (implicit)\n",
      "2025-08-28 10:10:57,348 INFO sqlalchemy.engine.Engine SELECT airports.id, airports.org_id, airports.name, airports.country, airports.created_at, airports.updated_at, airports.iata, airports.icao, airports.city, airports.state, airports.is_hub, airports.internal_notes \n",
      "FROM airports \n",
      "WHERE airports.org_id = $1::UUID\n",
      "2025-08-28 10:10:57,349 INFO sqlalchemy.engine.Engine [cached since 55.49s ago] ('6c26bb58-b361-4feb-aa6b-1f01599200c5',)\n",
      "Found 7 airports for org 6c26bb58-b361-4feb-aa6b-1f01599200c5\n",
      "- Rome–Fiumicino International Airport (FCO)\n",
      "- Ben Gurion Airport (TLV)\n",
      "- Athens International Airport (Eleftherios Venizelos Airport) (ATH)\n",
      "- Paris Charles de Gaulle Airport (CDG)\n",
      "- Newark Liberty International Airport (EWR)\n",
      "- Verona Villafranca Airport (VRN)\n",
      "- Ramon Airport (ETM)\n"
     ]
    },
    {
     "name": "stdout",
     "output_type": "stream",
     "text": [
      "2025-08-28 10:10:57,366 INFO sqlalchemy.engine.Engine ROLLBACK\n"
     ]
    }
   ],
   "source": [
    "async def test_airports():\n",
    "    \"\"\"Test airport operations\"\"\"\n",
    "    print(\"=== Testing Airport Operations ===\")\n",
    "    \n",
    "    async for session in get_db():\n",
    "        # Get airports by organization\n",
    "        org_id = \"6c26bb58-b361-4feb-aa6b-1f01599200c5\"\n",
    "        airports = await get_airports_by_org(session, org_id)\n",
    "        \n",
    "        print(f\"Found {len(airports)} airports for org {org_id}\")\n",
    "        for airport in airports:\n",
    "            print(f\"- {airport.name} ({airport.iata})\")\n",
    "        \n",
    "        break  # Exit the async generator\n",
    "\n",
    "# Run the test\n",
    "await test_airports()"
   ]
  },
  {
   "cell_type": "markdown",
   "id": "b34cc8be",
   "metadata": {},
   "source": [
    "### Test Raw SQL Queries"
   ]
  },
  {
   "cell_type": "code",
   "execution_count": 35,
   "id": "e50f7f40",
   "metadata": {},
   "outputs": [
    {
     "name": "stdout",
     "output_type": "stream",
     "text": [
      "=== Testing Raw SQL Queries ===\n",
      "Raw query found 5 airports\n",
      "- Rome–Fiumicino International Airport (LIRF)\n",
      "- Ben Gurion Airport (LLBG)\n",
      "- Athens International Airport (Eleftherios Venizelos Airport) (LGAV)\n",
      "- Paris Charles de Gaulle Airport (LFPG)\n",
      "- Newark Liberty International Airport (KEWR)\n"
     ]
    }
   ],
   "source": [
    "async def test_raw_queries():\n",
    "    \"\"\"Test raw SQL queries using asyncpg\"\"\"\n",
    "    print(\"=== Testing Raw SQL Queries ===\")\n",
    "    \n",
    "    from app.db import get_db_connection\n",
    "    \n",
    "    pool = await get_db_connection()\n",
    "    \n",
    "    async with pool.acquire() as conn:\n",
    "        # Example: Get all airports\n",
    "        airports = await conn.fetch(\"SELECT * FROM airports LIMIT 5\")\n",
    "        print(f\"Raw query found {len(airports)} airports\")\n",
    "        \n",
    "        for airport in airports:\n",
    "            print(f\"- {airport['name']} ({airport['icao']})\")\n",
    "\n",
    "# Run the test\n",
    "await test_raw_queries()"
   ]
  }
 ],
 "metadata": {
  "kernelspec": {
   "display_name": ".venv",
   "language": "python",
   "name": "python3"
  },
  "language_info": {
   "codemirror_mode": {
    "name": "ipython",
    "version": 3
   },
   "file_extension": ".py",
   "mimetype": "text/x-python",
   "name": "python",
   "nbconvert_exporter": "python",
   "pygments_lexer": "ipython3",
   "version": "3.13.7"
  }
 },
 "nbformat": 4,
 "nbformat_minor": 5
}
