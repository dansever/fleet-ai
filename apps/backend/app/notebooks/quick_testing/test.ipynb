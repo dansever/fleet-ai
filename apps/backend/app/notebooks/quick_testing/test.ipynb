{
 "cells": [
  {
   "cell_type": "code",
   "execution_count": 17,
   "id": "b4ea91a0",
   "metadata": {},
   "outputs": [],
   "source": [
    "import sys\n",
    "from pathlib import Path\n",
    "# Are we in a script or a notebook?\n",
    "in_script = '__file__' in globals()\n",
    "if in_script:\n",
    "    # this file is likely inside apps/backend/app/...\n",
    "    base = Path(__file__).resolve()\n",
    "    target = base.parents[2]  # go up 3 levels from this file: parents[0]=dir, [1]=.., [2]=../..\n",
    "else:\n",
    "    # Jupyter notebook: cwd is apps/backend/app/notebooks/quick_testing\n",
    "    base = Path.cwd().resolve()\n",
    "    target = base.parents[2]  # go up 2 dirs to reach apps/backend\n",
    "sys.path.insert(0, str(target))"
   ]
  },
  {
   "cell_type": "code",
   "execution_count": 18,
   "id": "f01557db",
   "metadata": {},
   "outputs": [
    {
     "name": "stdout",
     "output_type": "stream",
     "text": [
      "backend_dir C:\\Users\\danse\\Projects\\FleetAI V1\\fleet-ai\\apps\\backend\n"
     ]
    }
   ],
   "source": [
    "print(\"backend_dir\", target)  # this is normalized"
   ]
  },
  {
   "cell_type": "code",
   "execution_count": null,
   "id": "ee0564f8",
   "metadata": {},
   "outputs": [
    {
     "name": "stdout",
     "output_type": "stream",
     "text": [
      "Current working directory: C:\\Users\\danse\\Projects\\FleetAI V1\\fleet-ai\\apps\\backend\n",
      "Folders:\n",
      " - .venv\n",
      " - app\n",
      " - docs\n",
      " - middleware\n",
      " - mock_data\n",
      " - notebooks\n",
      " - scripts\n",
      " - tests\n"
     ]
    }
   ],
   "source": [
    "import os\n",
    "\n",
    "# List all folders in current notebook directory\n",
    "current_dir = target\n",
    "print(\"Current working directory:\", current_dir)\n",
    "\n",
    "folders = [name for name in os.listdir(current_dir) if os.path.isdir(os.path.join(current_dir, name))]\n",
    "print(\"Folders:\")\n",
    "for folder in folders:\n",
    "\n",
    "    print(\" -\", folder)"
   ]
  },
  {
   "cell_type": "code",
   "execution_count": 30,
   "id": "9050ef42",
   "metadata": {},
   "outputs": [
    {
     "name": "stdout",
     "output_type": "stream",
     "text": [
      "{\n",
      "  \"vendor_name\": \"Atlas Freight Israel Ltd.\",\n",
      "  \"vendor_address\": null,\n",
      "  \"vendor_contact_name\": null,\n",
      "  \"vendor_contact_email\": null,\n",
      "  \"vendor_contact_phone\": null,\n",
      "  \"vendor_comments\": null,\n",
      "  \"title\": \"Logistics and Freight Forwarding Agreement - Israel Air at Ben Gurion Airport\",\n",
      "  \"contract_type\": \"logistics_freight\",\n",
      "  \"effective_from\": \"2024-12-01\",\n",
      "  \"effective_to\": \"2025-10-31\",\n",
      "  \"summary\": \"Agreement between Israel Air and Atlas Freight Israel Ltd. for domestic and international freight forwarding, customs brokerage, and AOG logistics at Ben Gurion Airport (TLV). Includes DG handling, bonded storage, and last-mile deliveries. Services available 24\\u00d77 with AOG hotline and rapid pickup; proof of delivery required within 24 hours. Pricing is by weight break with surcharges for AOG, fuel (indexed to IATA), and after-hours. Customs, DG, and various Incoterms handled. Standard liability is per Montreal/Warsaw Convention, with enhancement option. Weekly invoicing, Net 30 terms. Termination: convenience 60 days, cause 15 days. Governed by the State of Israel.\",\n",
      "  \"commercial_terms\": \"Pricing model: per kilogram, using defined weight breaks (0\\u201345 kg, 46\\u2013100 kg, 101\\u2013300 kg, 301\\u2013500 kg, over 500 kg) at published tariff rates. AOG surcharges apply as per attached matrix. Monthly fuel surcharge indexed to IATA Fuel Price Monitor. After-hours and weekend deliveries incur +18 percent fee. Security screening charged per piece by airport tariff. Weekly consolidated invoicing with airwaybill detail. Payment terms: Net 30 days.\",\n",
      "  \"slas\": \"AOG desk hotline available 24\\u00d77. Pickup within 120 minutes in Tel Aviv metro area. Export cutoff coordinated with airline operations. Proof of delivery (POD) required within 24 hours including recipient name, timestamp, and photo if available. EDI tracking milestones for acceptance, export, arrival, customs release, and delivery.\",\n",
      "  \"edge_cases\": \"First 24 hours of storage at vendor facility is free, then applies per kg/day tariff; airport storage as per Israel Airports Authority rates. Over-dimension/over-weight shipments subject to feasibility and extra handling fees; crating recommended for fragile cargo. Lost/damaged freight subject to liability under Montreal/Warsaw Convention; declared value insurance available at premium.\",\n",
      "  \"risk_liability\": \"Liability governed by Montreal/Warsaw Convention for lost and damaged freight. Declared value option available at a premium. DG (dangerous goods) classes accepted per IATA DGR regulations; staff are certified and records held for 24 months. Vendor manages customs bond. Other risk terms per standard Incoterms.\",\n",
      "  \"termination_law\": \"Termination for convenience on 60 days' notice, or for cause with 15-day cure period. Governed by the laws of the State of Israel.\",\n",
      "  \"operational_baselines\": \"Services at TLV, domestic and international scope. Pickup within 120 minutes for AOG. 24\\u00d77 coverage. Consolidated weekly invoices with airwaybill detail. Customs brokerage, bond management, and support for temporary import via ATA Carnet provided. Tracking EDI at milestones; digital POD within 24 hours. EXW, FCA, CPT, DAP Incoterms supported.\"\n",
      "}\n"
     ]
    },
    {
     "data": {
      "text/plain": [
       "ResponseEnvelope(data={'vendor': {'vendor_name': 'Atlas Freight Israel Ltd.', 'vendor_address': None, 'vendor_contact_name': None, 'vendor_contact_email': None, 'vendor_contact_phone': None}, 'vendor_comments': None, 'title': 'Logistics and Freight Forwarding Agreement - Israel Air at Ben Gurion Airport', 'contract_type': 'logistics_freight', 'effective_from': '2024-12-01', 'effective_to': '2025-10-31', 'summary': 'Agreement between Israel Air and Atlas Freight Israel Ltd. for domestic and international freight forwarding, customs brokerage, and AOG logistics at Ben Gurion Airport (TLV). Includes DG handling, bonded storage, and last-mile deliveries. Services available 24×7 with AOG hotline and rapid pickup; proof of delivery required within 24 hours. Pricing is by weight break with surcharges for AOG, fuel (indexed to IATA), and after-hours. Customs, DG, and various Incoterms handled. Standard liability is per Montreal/Warsaw Convention, with enhancement option. Weekly invoicing, Net 30 terms. Termination: convenience 60 days, cause 15 days. Governed by the State of Israel.', 'commercial_terms': 'Pricing model: per kilogram, using defined weight breaks (0–45 kg, 46–100 kg, 101–300 kg, 301–500 kg, over 500 kg) at published tariff rates. AOG surcharges apply as per attached matrix. Monthly fuel surcharge indexed to IATA Fuel Price Monitor. After-hours and weekend deliveries incur +18 percent fee. Security screening charged per piece by airport tariff. Weekly consolidated invoicing with airwaybill detail. Payment terms: Net 30 days.', 'slas': 'AOG desk hotline available 24×7. Pickup within 120 minutes in Tel Aviv metro area. Export cutoff coordinated with airline operations. Proof of delivery (POD) required within 24 hours including recipient name, timestamp, and photo if available. EDI tracking milestones for acceptance, export, arrival, customs release, and delivery.', 'edge_cases': 'First 24 hours of storage at vendor facility is free, then applies per kg/day tariff; airport storage as per Israel Airports Authority rates. Over-dimension/over-weight shipments subject to feasibility and extra handling fees; crating recommended for fragile cargo. Lost/damaged freight subject to liability under Montreal/Warsaw Convention; declared value insurance available at premium.', 'risk_liability': 'Liability governed by Montreal/Warsaw Convention for lost and damaged freight. Declared value option available at a premium. DG (dangerous goods) classes accepted per IATA DGR regulations; staff are certified and records held for 24 months. Vendor manages customs bond. Other risk terms per standard Incoterms.', 'termination_law': \"Termination for convenience on 60 days' notice, or for cause with 15-day cure period. Governed by the laws of the State of Israel.\", 'operational_baselines': 'Services at TLV, domestic and international scope. Pickup within 120 minutes for AOG. 24×7 coverage. Consolidated weekly invoices with airwaybill detail. Customs brokerage, bond management, and support for temporary import via ATA Carnet provided. Tracking EDI at milestones; digital POD within 24 hours. EXW, FCA, CPT, DAP Incoterms supported.', 'tags': {}}, success=True, message='Loaded extraction result from cache')"
      ]
     },
     "execution_count": 30,
     "metadata": {},
     "output_type": "execute_result"
    }
   ],
   "source": [
    "from app.features.contract.process_contract import load_latest_extraction_result\n",
    "from app.features.contract.process_contract import ResponseEnvelope\n",
    "from app.utils.formatters import flatten_dict\n",
    "import json\n",
    "\n",
    "cached_data = load_latest_extraction_result(r\"C:\\Users\\danse\\Projects\\FleetAI V1\\fleet-ai\\apps\\backend\\mock_data\\contract_cache\")\n",
    "flattened_data = flatten_dict(cached_data) \n",
    "print(json.dumps(flattened_data, indent=2))\n",
    "\n",
    "extraction_result = ResponseEnvelope(\n",
    "    data=cached_data,\n",
    "    success=True,\n",
    "    message=\"Loaded extraction result from cache\"\n",
    ")\n",
    "extraction_result"
   ]
  }
 ],
 "metadata": {
  "kernelspec": {
   "display_name": ".venv",
   "language": "python",
   "name": "python3"
  },
  "language_info": {
   "codemirror_mode": {
    "name": "ipython",
    "version": 3
   },
   "file_extension": ".py",
   "mimetype": "text/x-python",
   "name": "python",
   "nbconvert_exporter": "python",
   "pygments_lexer": "ipython3",
   "version": "3.13.7"
  }
 },
 "nbformat": 4,
 "nbformat_minor": 5
}
