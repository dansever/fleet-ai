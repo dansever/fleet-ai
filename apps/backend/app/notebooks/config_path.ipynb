{
 "cells": [
  {
   "cell_type": "code",
   "execution_count": 11,
   "id": "56636ed2",
   "metadata": {},
   "outputs": [],
   "source": [
    "import sys\n",
    "from pathlib import Path\n",
    "# Are we in a script or a notebook?\n",
    "in_script = '__file__' in globals()\n",
    "if in_script:\n",
    "    # this file is likely inside apps/backend/app/...\n",
    "    base = Path(__file__).resolve()\n",
    "    target = base.parents[2]  # go up 3 levels from this file: parents[0]=dir, [1]=.., [2]=../..\n",
    "else:\n",
    "    # Jupyter notebook: cwd is apps/backend/app/notebooks/quick_testing\n",
    "    base = Path.cwd().resolve()\n",
    "    target = base.parents[1]  # go up 2 dirs to reach apps/backend\n",
    "sys.path.insert(0, str(target))"
   ]
  },
  {
   "cell_type": "code",
   "execution_count": 10,
   "id": "7890ce2e",
   "metadata": {},
   "outputs": [
    {
     "name": "stdout",
     "output_type": "stream",
     "text": [
      "Running in Jupyter notebook\n",
      "current_dir C:\\Users\\danse\\Projects\\FleetAI V1\\fleet-ai\\apps\\backend\\app\\notebooks\n",
      "backend_dir C:\\Users\\danse\\Projects\\FleetAI V1\\fleet-ai\\apps\\backend\n"
     ]
    }
   ],
   "source": [
    "if not in_script:\n",
    "    print(\"Running in Jupyter notebook\")\n",
    "    print(\"current_dir\", base)\n",
    "    print(\"backend_dir\", target)  # this is normalized"
   ]
  }
 ],
 "metadata": {
  "kernelspec": {
   "display_name": ".venv",
   "language": "python",
   "name": "python3"
  },
  "language_info": {
   "codemirror_mode": {
    "name": "ipython",
    "version": 3
   },
   "file_extension": ".py",
   "mimetype": "text/x-python",
   "name": "python",
   "nbconvert_exporter": "python",
   "pygments_lexer": "ipython3",
   "version": "3.13.7"
  }
 },
 "nbformat": 4,
 "nbformat_minor": 5
}
